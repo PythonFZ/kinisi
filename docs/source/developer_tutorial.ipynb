{
 "cells": [
  {
   "cell_type": "markdown",
   "id": "058b147f",
   "metadata": {},
   "source": [
    "To begin to develop the `kinisi` code, you should clone the git repository and install `kinisi` with the `dev` option in editable mode. \n",
    "\n",
    "```console\n",
    "$ git clone https://github.com/bjmorgan/kinisi.git\n",
    "$ cd kinisi\n",
    "$ pip install -e '.[dev]'\n",
    "```\n",
    "\n",
    "**When developing, please follow this style guide: https://llego.dev/posts/writing-clean-pep-8-compliant-code-better-collaboration/**"
   ]
  },
  {
   "cell_type": "markdown",
   "id": "aadabb8e",
   "metadata": {},
   "source": [
    "Below a brief over view of the kinisi codebase is given to aid the onboarding of new developers."
   ]
  },
  {
   "cell_type": "markdown",
   "id": "0c331029",
   "metadata": {},
   "source": [
    "# DiffusionAnalyzer and JumpDiffusionAnalyzer"
   ]
  },
  {
   "cell_type": "markdown",
   "id": "3799b256",
   "metadata": {},
   "source": [
    "Within `kinisi` the main classes the end user will interact with are [`DiffusionAnalyzer`](https://github.com/kinisi-dev/kinisi/blob/scipp/kinisi/diffusion_analyzer.py#L20), [`JumpDiffusionAnalyzer`](https://github.com/kinisi-dev/kinisi/blob/scipp/kinisi/jump_diffusion_analyzer.py#L20) and [`ConductivityAnalyzer`](https://github.com/kinisi-dev/kinisi/blob/scipp/kinisi/conductivity_analyzer.py#L20)\n",
    "\n",
    "These are typically called with 3 main methods depending on the type of trajectory these are:\n",
    "\n",
    "* [`from_universe`](https://github.com/kinisi-dev/kinisi/blob/scipp/kinisi/diffusion_analyzer.py#L87) - For MDAnalysis Universe\n",
    "* [`from_xdatcar`](https://github.com/kinisi-dev/kinisi/blob/scipp/kinisi/diffusion_analyzer.py#L35) - For Pymatgen Structures\n",
    "* [`from_ase`](https://github.com/kinisi-dev/kinisi/blob/scipp/kinisi/diffusion_analyzer.py) - For ASE objects\n",
    "\n",
    "For instance, [`DiffusionAnalyzer.from_xdatcar`](https://github.com/kinisi-dev/kinisi/blob/scipp/kinisi/diffusion_analyzer.py#L35) can be called via"
   ]
  },
  {
   "cell_type": "code",
   "execution_count": 5,
   "id": "30b74559",
   "metadata": {},
   "outputs": [
    {
     "name": "stderr",
     "output_type": "stream",
     "text": [
      "Reading Trajectory: 100%|██████████| 140/140 [00:00<00:00, 13208.92it/s]\n",
      "Finding Means and Variances: 100%|██████████| 140/140 [00:00<00:00, 2160.21it/s]\n"
     ]
    }
   ],
   "source": [
    "import numpy as np\n",
    "import matplotlib.pyplot as plt\n",
    "import scipp as sc\n",
    "from pymatgen.io.vasp import Xdatcar\n",
    "from kinisi.analyze import DiffusionAnalyzer\n",
    "rng = np.random.RandomState(42)\n",
    "\n",
    "params = {'specie': 'Li',\n",
    "          'time_step': 2.0 * sc.Unit('fs'),\n",
    "          'step_skip': 50 * sc.Unit('dimensionless'),\n",
    "          }\n",
    "\n",
    "\n",
    "params['dimension']= 'xy'\n",
    "\n",
    "xd = Xdatcar('./example_XDATCAR.gz')\n",
    "diff = DiffusionAnalyzer.from_xdatcar(xd, **params)"
   ]
  },
  {
   "cell_type": "markdown",
   "id": "4331a507",
   "metadata": {},
   "source": [
    "[`DiffusionAnalyzer`](https://github.com/kinisi-dev/kinisi/blob/scipp/kinisi/diffusion_analyzer.py#L20) is a subclass of [`Analyzer`](https://github.com/kinisi-dev/kinisi/blob/scipp/kinisi/analyzer.py#L20) and so upon its initialization `Analyzer` is initialized first, `DiffusionAnalyzer` inherits from the `Analyzer`.\n",
    "\n",
    "```python\n",
    "\n",
    "class DiffusionAnalyzer(Analyzer):\n",
    "\n",
    "```\n",
    "\n",
    "\n",
    "The `from_` class method of the `DiffusionAnalyzer` calls the Analyzer class `_from_` method via a super(), i.e. within [`from_universe`](https://github.com/kinisi-dev/kinisi/blob/scipp/kinisi/diffusion_analyzer.py#L131)\n",
    "\n",
    "```python\n",
    "\n",
    "p = super()._from_universe(trajectory, specie, time_step, step_skip, dtype, dt, dimension, distance_unit,\n",
    "                            specie_indices, masses, progress)\n",
    "\n",
    "```\n",
    "\n",
    "Within the `_from_` methods the respective parser is called for each frame in the trajectory, similarly to above there are 3 parser classes : \n",
    "\n",
    "\n",
    "* [`MDAnalysis_parser`](https://github.com/kinisi-dev/kinisi/blob/scipp/kinisi/analyzer.py#L109) - For MDAnalysis Universe\n",
    "* [`PymatgenParser`](https://github.com/kinisi-dev/kinisi/blob/scipp/kinisi/analyzer.py#L74) - For Pymatgen Structures\n",
    "* [`ASE_parser`](https://github.com/kinisi-dev/kinisi/blob/scipp/kinisi/analyzer.py) - For ASE objects\n",
    "\n",
    "\n",
    "Each respective parser class is a subclass of the full [`Parser`](https://github.com/kinisi-dev/kinisi/blob/scipp/kinisi/parser.py#L34) class. \n",
    "\n",
    "```python \n",
    "\n",
    "class PymatgenParser(Parser):\n",
    "\n",
    "```\n",
    "\n",
    "**The parser indexes the correct molecules and particle coordinates for a timestep.**\n",
    "\n",
    "**The Analyzer calls the parser for all the chosen time steps and calculates displacements.**\n",
    "\n",
    "**The DiffusionAnalyzer then calculates the mean squared displacements (MSD) and variances for each time interval.**\n",
    "\n",
    "A flowchart of the classes and inheritance can be seen below\n",
    "\n"
   ]
  },
  {
   "cell_type": "markdown",
   "id": "525f47c4",
   "metadata": {},
   "source": [
    "![My Diagram](./diffusion_analyzer_flowchart.png)"
   ]
  },
  {
   "cell_type": "markdown",
   "id": "43c158f2",
   "metadata": {},
   "source": [
    "The main output of the `from_` methods is then [`.msd_da`](https://github.com/kinisi-dev/kinisi/blob/scipp/kinisi/diffusion_analyzer.py#L83) which is a [Scipp](https://scipp.github.io/) DataArray containing the MSD, n_samples, time intervals as well as standard deviations, it can be accessed via"
   ]
  },
  {
   "cell_type": "code",
   "execution_count": 6,
   "id": "f140663b",
   "metadata": {},
   "outputs": [
    {
     "data": {
      "text/html": [
       "<div><!-- Original source from -->\n",
       "<!-- https://github.com/jsignell/xarray/blob/1d960933ab252e0f79f7e050e6c9261d55568057/xarray/static/html/icons-svg-inline.html -->\n",
       "<svg style=\"position: absolute; width: 0; height: 0; overflow: hidden\">\n",
       "<defs>\n",
       "<symbol id=\"icon-database\" viewBox=\"0 0 32 32\">\n",
       "<title>Show/Hide data repr</title>\n",
       "<path d=\"M16 0c-8.837 0-16 2.239-16 5v4c0 2.761 7.163 5 16 5s16-2.239 16-5v-4c0-2.761-7.163-5-16-5z\"></path>\n",
       "<path d=\"M16 17c-8.837 0-16-2.239-16-5v6c0 2.761 7.163 5 16 5s16-2.239 16-5v-6c0 2.761-7.163 5-16 5z\"></path>\n",
       "<path d=\"M16 26c-8.837 0-16-2.239-16-5v6c0 2.761 7.163 5 16 5s16-2.239 16-5v-6c0 2.761-7.163 5-16 5z\"></path>\n",
       "</symbol>\n",
       "<symbol id=\"icon-file-text2\" viewBox=\"0 0 32 32\">\n",
       "<title>Show/Hide attributes</title>\n",
       "<path d=\"M28.681 7.159c-0.694-0.947-1.662-2.053-2.724-3.116s-2.169-2.030-3.116-2.724c-1.612-1.182-2.393-1.319-2.841-1.319h-15.5c-1.378 0-2.5 1.121-2.5 2.5v27c0 1.378 1.122 2.5 2.5 2.5h23c1.378 0 2.5-1.122 2.5-2.5v-19.5c0-0.448-0.137-1.23-1.319-2.841zM24.543 5.457c0.959 0.959 1.712 1.825 2.268 2.543h-4.811v-4.811c0.718 0.556 1.584 1.309 2.543 2.268zM28 29.5c0 0.271-0.229 0.5-0.5 0.5h-23c-0.271 0-0.5-0.229-0.5-0.5v-27c0-0.271 0.229-0.5 0.5-0.5 0 0 15.499-0 15.5 0v7c0 0.552 0.448 1 1 1h7v19.5z\"></path>\n",
       "<path d=\"M23 26h-14c-0.552 0-1-0.448-1-1s0.448-1 1-1h14c0.552 0 1 0.448 1 1s-0.448 1-1 1z\"></path>\n",
       "<path d=\"M23 22h-14c-0.552 0-1-0.448-1-1s0.448-1 1-1h14c0.552 0 1 0.448 1 1s-0.448 1-1 1z\"></path>\n",
       "<path d=\"M23 18h-14c-0.552 0-1-0.448-1-1s0.448-1 1-1h14c0.552 0 1 0.448 1 1s-0.448 1-1 1z\"></path>\n",
       "</symbol>\n",
       "</defs>\n",
       "</svg><style id=\"scipp-style-sheet\">.sc-root{--sc-background-color0:var(--jp-layout-color0,#fff);--sc-background-color1:var(--jp-layout-color1,#fcfcfc);--sc-background-color2:var(--jp-layout-color2,#efefef);--sc-inverse-background-color0:var(--jp-inverse-layout-color4,#111);--sc-font-color0:var(--jp-content-font-color0,#000);--sc-font-color1:var(--jp-content-font-color1,#555);--sc-font-color2:var(--jp-content-font-color2,#888);--sc-font-color3:var(--jp-content-font-color3,#ccc);}body.vscode-dark .sc-root{--sc-font-color0:rgba(255,255,255,1);--sc-font-color1:rgba(255,255,255,0.70);--sc-font-color2:rgba(255,255,255,0.54);--sc-font-color3:rgba(255,255,255,0.38);--sc-border-color:#1F1F1F;--sc-disabled-color:#515151;--sc-background-color0:#111111;--sc-background-color1:#111111;--sc-background-color2:#313131;}.sc-wrap{font-size:14px;min-width:300px;max-width:800px;}.sc-var-attrs .sc-wrap{padding-left:3em;}.sc-header{padding-top:6px;padding-bottom:6px;margin-bottom:4px;border-bottom:solid 1px #ddd;}.sc-header > div,.sc-header > ul{display:inline;margin-top:0;margin-bottom:0;}.sc-obj-type,.sc-array-name{margin-left:2px;margin-right:10px;}.sc-obj-type{color:var(--sc-font-color1);}.sc-underlying-size{color:var(--sc-font-color2);}.sc-sections,.reveal .sc-sections{padding-left:0 !important;display:grid;grid-template-columns:150px auto auto auto 1fr 20px 20px;}.sc-section-item{display:contents;}.sc-section-item input{display:none;}.sc-section-item input:enabled + label{cursor:pointer;color:var(--sc-font-color1);}.sc-section-item input:enabled + label:hover{color:var(--sc-font-color0);}.sc-section-summary{grid-column:1;font-weight:500;}.sc-section-summary > span{display:inline-block;padding-left:0.5em;}.sc-section-summary-in:disabled + label{color:var(--sc-font-color1);}.sc-section-summary-in + label:before{display:inline-block;content:'►';font-size:11px;width:15px;text-align:center;}.sc-section-summary-in:disabled + label:before{color:var(--sc-font-color3);}.sc-section-summary-in:checked + label:before{content:'▼';}.sc-section-summary-in:checked + label > span{display:none;}.sc-section-summary,.sc-section-inline-details{padding-top:4px;padding-bottom:4px;}.sc-section-inline-details{grid-column:2 / 6;}.sc-section-details{display:none;grid-column:1 / -1;margin-bottom:5px;}.sc-section-summary-in:checked ~ .sc-section-details{display:contents;}.sc-array-wrap{grid-column:1 / -1;display:grid;grid-template-columns:20px auto;}.sc-array-wrap > label{grid-column:1;vertical-align:top;}.sc-preview{color:var(--sc-font-color2);}.sc-array-preview,.sc-array-data{padding:0 5px !important;grid-column:2;}.sc-array-data,.sc-array-in:checked ~ .sc-array-preview{display:none;}.sc-array-in:checked ~ .sc-array-data,.sc-array-preview{display:inline-block;}.sc-dim-list{display:inline-block !important;list-style:none;padding:0 !important;margin:0;}.sc-dim-list li{display:inline-block;padding:0;margin:0!important;}.sc-dim-list:before{content:'(';}.sc-dim-list:after{content:')';}.sc-dim-list li:not(:last-child):after{content:',';padding-right:5px;}.sc-dim-list li span,.sc-standalone-var-name > span span,.sc-var-name > span span{padding:0 !important;}.sc-aligned{font-weight:bold;}.sc-var-list,.sc-var-item,.reveal .sc-var-list,.reveal .sc-var-item{display:contents;}.sc-var-item > div,.sc-var-item label,.sc-var-item > .sc-var-name span{background-color:var(--sc-background-color1);margin-bottom:0;}.sc-var-item > .sc-var-name:hover span{padding-right:5px;}.sc-var-list > li:nth-child(odd) > div,.sc-var-list > li:nth-child(odd) > label,.sc-var-list > li:nth-child(odd) > .sc-var-name span{background-color:var(--sc-background-color2);}.sc-var-name{grid-column:1;}.sc-var-dims{grid-column:2;}.sc-var-dtype{grid-column:3;text-align:right;color:var(--sc-font-color2);}.sc-var-unit{grid-column:4;text-align:left;color:var(--sc-font-color1);max-width:50pt;text-overflow:ellipsis;}.sc-value-preview{grid-column:5;}.sc-var-preview-variances{text-align:right;}.sc-sections .sc-section-item .sc-section-summary,.sc-sections .sc-section-item .sc-section-inline-details,.sc-section-item .sc-var-list .sc-var-item > div,.sc-section-item .sc-var-list .sc-var-item > label,.sc-section-details .sc-var-list .sc-var-item > div,.sc-section-details .sc-var-list .sc-var-item > label{margin-top:0;margin-bottom:0;}.sc-var-name,.sc-var-dims,.sc-var-dtype,.sc-var-unit,.sc-preview,.sc-attrs dt{white-space:nowrap;overflow:hidden;text-overflow:ellipsis;padding-right:10px;}.sc-var-name:hover,.sc-var-dims:hover,.sc-var-dtype:hover,.sc-var-unit:hover,.sc-attrs dt:hover{overflow:visible;width:auto;z-index:1;}.sc-var-attrs{display:block;}.sc-var-data,.reveal .sc-var-data{display:none;}.sc-var-attrs,.sc-var-data{background-color:var(--sc-background-color0) !important;padding-bottom:5px !important;}.sc-var-attrs-in:checked ~ .sc-var-attrs{display:none;}.sc-var-data-in:checked ~ .sc-var-data{display:block;}.sc-var-data > table{float:right;}.sc-var-name span,.sc-var-data{padding-left:25px !important;}.sc-var-attrs,.sc-var-data{grid-column:1 / -1;}dl.sc-attrs{padding:0;margin:0;display:grid;grid-template-columns:125px auto;}.sc-attrs dt,dd{padding:0;margin:0;float:left;padding-right:10px;width:auto;}.sc-attrs dt{font-weight:normal;grid-column:1;}.sc-attrs dt:hover span{display:inline-block;padding-right:10px;}.sc-attrs dd{grid-column:2;white-space:pre-wrap;word-break:break-all;}.sc-icon-database,.sc-icon-file-text2{display:inline-block;vertical-align:middle;width:1em;height:1.5em !important;stroke-width:0;stroke:currentColor;fill:currentColor;}label.sc-hide-icon svg{opacity:0;}.sc-standalone-var-name{grid-column:1/3;}.sc-standalone-var-name span{padding-left:25px;padding-right:10px;}.sc-title{font-weight:bold;font-size:1.5em;}.sc-subtitle{font-weight:normal;font-style:italic;text-align:left;font-size:1.2em;padding:1px;}.sc-label{fill:var(--sc-font-color0,#444444);text-anchor:middle;}.sc-name{fill:var(--sc-font-color0,#111111);}.sc-inset-line{stroke:var(--sc-font-color1);stroke-width:0.05;stroke-dasharray:0.2,0.2;}.sc-log-wrap{height:25ex;resize:vertical;overflow-y:scroll;display:flex;flex-direction:column-reverse;border:1px solid;border-color:var(--jp-border-color2);background-color:var(--sc-background-color1);}div.sc-log{line-height:2.5ex;}table.sc-log{table-layout:auto;border-collapse:collapse;}tr.sc-log:nth-child(even){background-color:var(--sc-background-color0);}tr.sc-log > td{vertical-align:top;padding-bottom:0.5ex;}.sc-log-time-stamp{min-width:22ch;font-family:var(--jp-code-font-family);color:var(--sc-font-color2);}.sc-log-level{min-width:10ch;}tr.sc-log-debug td.sc-log-level{color:var(--jp-accent-color1);}tr.sc-log-info td.sc-log-level{color:var(--jp-info-color1);}tr.sc-log-warning td.sc-log-level{color:var(--jp-warn-color1);}tr.sc-log-error td.sc-log-level{font-weight:bold;color:var(--jp-error-color2);}tr.sc-log-critical td.sc-log-level{font-weight:bold;color:var(--sc-background-color0);background-color:var(--jp-error-color1);}.sc-log-message{white-space:pre-wrap;width:100%;}.sc-log-html-payload{white-space:normal;}.sc-log-name{padding-right:0.5em;text-align:right;white-space:pre-wrap;color:var(--sc-font-color3);}</style><div class='sc-wrap sc-root'><div class='sc-header'><div class='sc-obj-type'>scipp.DataArray (5.75 KB)</div></div><ul class='sc-sections'><li class='sc-section-item'><input id='section-89afd25b-c437-474e-b854-57b283f2c647' class='sc-section-summary-in' type='checkbox' disabled ><label for='section-89afd25b-c437-474e-b854-57b283f2c647' class='sc-section-summary' >Dimensions:</label><div class='sc-section-inline-details'><ul class='sc-dim-list'><li><span class='sc-has-index'>time interval</span>: 140</li></ul></div><div class='sc-section-details'></div></li><li class='sc-section-item'><input id='section-85937d12-6f40-4c71-a7ee-4d3c92865c34' class='sc-section-summary-in' type='checkbox'  checked><label for='section-85937d12-6f40-4c71-a7ee-4d3c92865c34' class='sc-section-summary'  title='Expand/collapse section'>Coordinates: <span>(3)</span></label><div class='sc-section-inline-details'></div><div class='sc-section-details'><ul class='sc-var-list'><li class='sc-var-item'><div class='sc-var-name'><span class='sc-aligned'>dimensionality</span></div><div class='sc-var-dims'>()</div><div class='sc-var-dtype'>int64</div><div class='sc-var-unit'>𝟙</div><div class='sc-value-preview sc-preview'><span><div>2</div></span></div><input id='attrs-c927413c-491c-407b-bf1c-cfb1f7a511c1' class='sc-var-attrs-in' type='checkbox' disabled><label for='attrs-c927413c-491c-407b-bf1c-cfb1f7a511c1' class='sc-hide-icon' title='Show/Hide attributes'><svg class='icon sc-icon-file-text2'><use xlink:href='#icon-file-text2'></use></svg></label><input id='data-b4136581-fdd0-4893-a3f8-7457be44fa3a' class='sc-var-data-in' type='checkbox'><label for='data-b4136581-fdd0-4893-a3f8-7457be44fa3a' title='Show/Hide data repr'><svg class='icon sc-icon-database'><use xlink:href='#icon-database'></use></svg></label><pre class='sc-var-data'>Values:<br>array(2)</pre></span></li><li class='sc-var-item'><div class='sc-var-name'><span class='sc-aligned'>n_samples</span></div><div class='sc-var-dims'>(time interval)</div><div class='sc-var-dtype'>float64</div><div class='sc-var-unit'>𝟙</div><div class='sc-value-preview sc-preview'><span><div>2.688e+04, 1.344e+04, ..., 193.381, 192.0</div></span></div><input id='attrs-e655dcd8-ea67-4e02-b6f6-f767c600a936' class='sc-var-attrs-in' type='checkbox' disabled><label for='attrs-e655dcd8-ea67-4e02-b6f6-f767c600a936' class='sc-hide-icon' title='Show/Hide attributes'><svg class='icon sc-icon-file-text2'><use xlink:href='#icon-file-text2'></use></svg></label><input id='data-045fd8ca-5f72-41bd-b1d6-a5206e69881d' class='sc-var-data-in' type='checkbox'><label for='data-045fd8ca-5f72-41bd-b1d6-a5206e69881d' title='Show/Hide data repr'><svg class='icon sc-icon-database'><use xlink:href='#icon-database'></use></svg></label><pre class='sc-var-data'>Values:<br>array([26880.        , 13440.        ,  8960.        ,  6720.        ,\n",
       "        5376.        ,  4480.        ,  3840.        ,  3360.        ,\n",
       "        2986.66666667,  2688.        ,  2443.63636364,  2240.        ,\n",
       "        2067.69230769,  1920.        ,  1792.        ,  1680.        ,\n",
       "        1581.17647059,  1493.33333333,  1414.73684211,  1344.        ,\n",
       "        1280.        ,  1221.81818182,  1168.69565217,  1120.        ,\n",
       "        1075.2       ,  1033.84615385,   995.55555556,   960.        ,\n",
       "         926.89655172,   896.        ,   867.09677419,   840.        ,\n",
       "         814.54545455,   790.58823529,   768.        ,   746.66666667,\n",
       "         726.48648649,   707.36842105,   689.23076923,   672.        ,\n",
       "         655.6097561 ,   640.        ,   625.11627907,   610.90909091,\n",
       "         597.33333333,   584.34782609,   571.91489362,   560.        ,\n",
       "         548.57142857,   537.6       ,   527.05882353,   516.92307692,\n",
       "         507.16981132,   497.77777778,   488.72727273,   480.        ,\n",
       "         471.57894737,   463.44827586,   455.59322034,   448.        ,\n",
       "         440.6557377 ,   433.5483871 ,   426.66666667,   420.        ,\n",
       "         413.53846154,   407.27272727,   401.19402985,   395.29411765,\n",
       "         389.56521739,   384.        ,   378.5915493 ,   373.33333333,\n",
       "         368.21917808,   363.24324324,   358.4       ,   353.68421053,\n",
       "         349.09090909,   344.61538462,   340.25316456,   336.        ,\n",
       "         331.85185185,   327.80487805,   323.85542169,   320.        ,\n",
       "         316.23529412,   312.55813953,   308.96551724,   305.45454545,\n",
       "         302.02247191,   298.66666667,   295.38461538,   292.17391304,\n",
       "         289.03225806,   285.95744681,   282.94736842,   280.        ,\n",
       "         277.11340206,   274.28571429,   271.51515152,   268.8       ,\n",
       "         266.13861386,   263.52941176,   260.97087379,   258.46153846,\n",
       "         256.        ,   253.58490566,   251.21495327,   248.88888889,\n",
       "         246.60550459,   244.36363636,   242.16216216,   240.        ,\n",
       "         237.87610619,   235.78947368,   233.73913043,   231.72413793,\n",
       "         229.74358974,   227.79661017,   225.88235294,   224.        ,\n",
       "         222.14876033,   220.32786885,   218.53658537,   216.77419355,\n",
       "         215.04      ,   213.33333333,   211.65354331,   210.        ,\n",
       "         208.37209302,   206.76923077,   205.19083969,   203.63636364,\n",
       "         202.10526316,   200.59701493,   199.11111111,   197.64705882,\n",
       "         196.20437956,   194.7826087 ,   193.38129496,   192.        ])</pre></span></li><li class='sc-var-item'><div class='sc-var-name'><span class='sc-aligned'>time interval</span></div><div class='sc-var-dims'>(time interval)</div><div class='sc-var-dtype'>float64</div><div class='sc-var-unit'>fs</div><div class='sc-value-preview sc-preview'><span><div>100.0, 200.0, ..., 1.390e+04, 1.400e+04</div></span></div><input id='attrs-a94cac0d-08cd-4953-ba53-25faae897937' class='sc-var-attrs-in' type='checkbox' disabled><label for='attrs-a94cac0d-08cd-4953-ba53-25faae897937' class='sc-hide-icon' title='Show/Hide attributes'><svg class='icon sc-icon-file-text2'><use xlink:href='#icon-file-text2'></use></svg></label><input id='data-d32ca41a-ed4f-4849-8944-097965e2260a' class='sc-var-data-in' type='checkbox'><label for='data-d32ca41a-ed4f-4849-8944-097965e2260a' title='Show/Hide data repr'><svg class='icon sc-icon-database'><use xlink:href='#icon-database'></use></svg></label><pre class='sc-var-data'>Values:<br>array([  100.,   200.,   300.,   400.,   500.,   600.,   700.,   800.,\n",
       "         900.,  1000.,  1100.,  1200.,  1300.,  1400.,  1500.,  1600.,\n",
       "        1700.,  1800.,  1900.,  2000.,  2100.,  2200.,  2300.,  2400.,\n",
       "        2500.,  2600.,  2700.,  2800.,  2900.,  3000.,  3100.,  3200.,\n",
       "        3300.,  3400.,  3500.,  3600.,  3700.,  3800.,  3900.,  4000.,\n",
       "        4100.,  4200.,  4300.,  4400.,  4500.,  4600.,  4700.,  4800.,\n",
       "        4900.,  5000.,  5100.,  5200.,  5300.,  5400.,  5500.,  5600.,\n",
       "        5700.,  5800.,  5900.,  6000.,  6100.,  6200.,  6300.,  6400.,\n",
       "        6500.,  6600.,  6700.,  6800.,  6900.,  7000.,  7100.,  7200.,\n",
       "        7300.,  7400.,  7500.,  7600.,  7700.,  7800.,  7900.,  8000.,\n",
       "        8100.,  8200.,  8300.,  8400.,  8500.,  8600.,  8700.,  8800.,\n",
       "        8900.,  9000.,  9100.,  9200.,  9300.,  9400.,  9500.,  9600.,\n",
       "        9700.,  9800.,  9900., 10000., 10100., 10200., 10300., 10400.,\n",
       "       10500., 10600., 10700., 10800., 10900., 11000., 11100., 11200.,\n",
       "       11300., 11400., 11500., 11600., 11700., 11800., 11900., 12000.,\n",
       "       12100., 12200., 12300., 12400., 12500., 12600., 12700., 12800.,\n",
       "       12900., 13000., 13100., 13200., 13300., 13400., 13500., 13600.,\n",
       "       13700., 13800., 13900., 14000.])</pre></span></li></ul></div></li><li class='sc-section-item'><input id='section-8d72b33f-2148-4ddb-9555-e35591a7f3b5' class='sc-section-summary-in' type='checkbox'  checked><label for='section-8d72b33f-2148-4ddb-9555-e35591a7f3b5' class='sc-section-summary'  title='Expand/collapse section'>Data: <span>(1)</span></label><div class='sc-section-inline-details'></div><div class='sc-section-details'><ul class='sc-var-list'><li class='sc-var-item'><div class='sc-var-name'><span></span></div><div class='sc-var-dims'>(time interval)</div><div class='sc-var-dtype'>float64</div><div class='sc-var-unit'>Å^2</div><div class='sc-value-preview sc-preview'><span><div>0.292, 0.464, ..., 7.592, 7.734</div></span><span><div>σ = 0.002, 0.005, ..., 0.740, 0.749</div></span></div><input id='attrs-4bb599d1-9a0f-449e-ad54-c24dc6038086' class='sc-var-attrs-in' type='checkbox' disabled><label for='attrs-4bb599d1-9a0f-449e-ad54-c24dc6038086' class='sc-hide-icon' title='Show/Hide attributes'><svg class='icon sc-icon-file-text2'><use xlink:href='#icon-file-text2'></use></svg></label><input id='data-6d0bb638-a937-4a91-9081-bf84ba2b7d70' class='sc-var-data-in' type='checkbox'><label for='data-6d0bb638-a937-4a91-9081-bf84ba2b7d70' title='Show/Hide data repr'><svg class='icon sc-icon-database'><use xlink:href='#icon-database'></use></svg></label><pre class='sc-var-data'>Values:<br>array([0.2917202 , 0.46427319, 0.58858673, 0.67579754, 0.7484963 ,\n",
       "       0.81362255, 0.8736439 , 0.93559838, 0.99790642, 1.05939139,\n",
       "       1.12175001, 1.18267561, 1.24107337, 1.2964985 , 1.353681  ,\n",
       "       1.4106584 , 1.46864733, 1.52292125, 1.57562696, 1.6289172 ,\n",
       "       1.68299683, 1.73925284, 1.7962133 , 1.85615204, 1.90907671,\n",
       "       1.96191219, 2.01544989, 2.07346812, 2.12977112, 2.18591439,\n",
       "       2.24230305, 2.29981357, 2.35632738, 2.41380762, 2.47364627,\n",
       "       2.53369494, 2.59361714, 2.65690405, 2.7155917 , 2.76821278,\n",
       "       2.82520665, 2.88162667, 2.94104597, 3.00603304, 3.06897598,\n",
       "       3.13028248, 3.19384561, 3.26448489, 3.32786596, 3.38438557,\n",
       "       3.43790766, 3.49609948, 3.55170475, 3.60944135, 3.66982988,\n",
       "       3.72660045, 3.77901554, 3.8289847 , 3.87593477, 3.92740192,\n",
       "       3.981793  , 4.03295337, 4.09397306, 4.149278  , 4.2030949 ,\n",
       "       4.25884738, 4.30841632, 4.35807443, 4.40439951, 4.44896832,\n",
       "       4.49042677, 4.53356143, 4.58593898, 4.64214813, 4.70124542,\n",
       "       4.75530329, 4.81214265, 4.86628776, 4.91307323, 4.9558478 ,\n",
       "       5.00614358, 5.05994979, 5.12195069, 5.17229417, 5.22536986,\n",
       "       5.27136532, 5.32300789, 5.37272336, 5.42372957, 5.46959819,\n",
       "       5.50933712, 5.54867013, 5.59344082, 5.63433501, 5.67163284,\n",
       "       5.70763406, 5.75020215, 5.79326577, 5.84138149, 5.887423  ,\n",
       "       5.92529755, 5.96566456, 6.01031431, 6.049287  , 6.07033229,\n",
       "       6.09943058, 6.12998511, 6.16351736, 6.20286503, 6.25112565,\n",
       "       6.31346573, 6.36004451, 6.41468395, 6.48238403, 6.5393485 ,\n",
       "       6.59373387, 6.64585832, 6.68726801, 6.7273076 , 6.77444773,\n",
       "       6.82962452, 6.87997422, 6.90983613, 6.94568133, 6.97904686,\n",
       "       7.01422837, 7.05482478, 7.0965886 , 7.11666082, 7.14786112,\n",
       "       7.16352717, 7.19464049, 7.239638  , 7.29016891, 7.35717872,\n",
       "       7.40389531, 7.47061871, 7.57221473, 7.59247982, 7.73363843])<br><br>Variances (σ²):<br>array([5.20147656e-06, 2.72036297e-05, 6.73090253e-05, 1.28674134e-04,\n",
       "       2.12529482e-04, 3.12523088e-04, 4.26603091e-04, 5.60463544e-04,\n",
       "       7.12021002e-04, 8.78392609e-04, 1.07871582e-03, 1.30902325e-03,\n",
       "       1.56880407e-03, 1.84439995e-03, 2.11860626e-03, 2.41541749e-03,\n",
       "       2.76695004e-03, 3.15888786e-03, 3.54924088e-03, 3.99429270e-03,\n",
       "       4.40870878e-03, 4.89360677e-03, 5.42298311e-03, 6.07854198e-03,\n",
       "       6.70672948e-03, 7.31187501e-03, 7.96871138e-03, 8.74539285e-03,\n",
       "       9.55090330e-03, 1.03893656e-02, 1.12170649e-02, 1.21231510e-02,\n",
       "       1.30753813e-02, 1.40313851e-02, 1.50962768e-02, 1.62436298e-02,\n",
       "       1.72523913e-02, 1.83788699e-02, 1.96794358e-02, 2.10073997e-02,\n",
       "       2.23862140e-02, 2.38881507e-02, 2.55470067e-02, 2.70626020e-02,\n",
       "       2.84880969e-02, 3.00220948e-02, 3.16845723e-02, 3.34136669e-02,\n",
       "       3.50153745e-02, 3.67407864e-02, 3.84664843e-02, 4.02489509e-02,\n",
       "       4.21940698e-02, 4.41715949e-02, 4.61935143e-02, 4.83002511e-02,\n",
       "       5.04367618e-02, 5.27439115e-02, 5.49927078e-02, 5.74444763e-02,\n",
       "       6.03344103e-02, 6.30721252e-02, 6.58406445e-02, 6.83683036e-02,\n",
       "       7.08516722e-02, 7.32420595e-02, 7.54933891e-02, 7.83622149e-02,\n",
       "       8.13013631e-02, 8.40989605e-02, 8.67849857e-02, 8.88090264e-02,\n",
       "       9.15957133e-02, 9.47948982e-02, 9.83758162e-02, 1.02275090e-01,\n",
       "       1.06005756e-01, 1.10178307e-01, 1.13730166e-01, 1.17651820e-01,\n",
       "       1.21786819e-01, 1.26194475e-01, 1.31083742e-01, 1.35706730e-01,\n",
       "       1.40221369e-01, 1.45378277e-01, 1.49443586e-01, 1.53578895e-01,\n",
       "       1.58701206e-01, 1.63164549e-01, 1.66953403e-01, 1.71236969e-01,\n",
       "       1.75595139e-01, 1.80016085e-01, 1.83632344e-01, 1.87320193e-01,\n",
       "       1.92230685e-01, 1.97182518e-01, 2.02372042e-01, 2.08028883e-01,\n",
       "       2.12746872e-01, 2.16586656e-01, 2.21191071e-01, 2.25426877e-01,\n",
       "       2.27925965e-01, 2.30867959e-01, 2.35456783e-01, 2.40614556e-01,\n",
       "       2.44866193e-01, 2.49677233e-01, 2.57664592e-01, 2.64614609e-01,\n",
       "       2.70547065e-01, 2.78299860e-01, 2.84542997e-01, 2.89899899e-01,\n",
       "       2.93741516e-01, 2.99543193e-01, 3.06040947e-01, 3.13668141e-01,\n",
       "       3.23366478e-01, 3.36241518e-01, 3.44041239e-01, 3.52169288e-01,\n",
       "       3.57304805e-01, 3.63105921e-01, 3.70491528e-01, 3.76488295e-01,\n",
       "       3.81684457e-01, 3.90582806e-01, 3.97607294e-01, 4.10336679e-01,\n",
       "       4.16352306e-01, 4.29481817e-01, 4.48563157e-01, 4.64562045e-01,\n",
       "       4.88049154e-01, 5.13995079e-01, 5.47805753e-01, 5.60401504e-01])</pre></li></ul></div></li></ul></div></div>"
      ],
      "text/plain": [
       "<scipp.DataArray>\n",
       "Dimensions: Sizes[time interval:140, ]\n",
       "Coordinates:\n",
       "* dimensionality              int64  [dimensionless]  ()  2\n",
       "* n_samples                 float64  [dimensionless]  (time interval)  [26880, 13440, ..., 193.381, 192]\n",
       "* time interval             float64             [fs]  (time interval)  [100, 200, ..., 13900, 14000]\n",
       "Data:\n",
       "                            float64           [Å^2]  (time interval)  [0.29172, 0.464273, ..., 7.59248, 7.73364]  [5.20148e-06, 2.72036e-05, ..., 0.547806, 0.560402]\n"
      ]
     },
     "execution_count": 6,
     "metadata": {},
     "output_type": "execute_result"
    }
   ],
   "source": [
    "diff.msd_da"
   ]
  },
  {
   "cell_type": "markdown",
   "id": "44a0b5dd",
   "metadata": {},
   "source": [
    "# DiffusionAnalyzer.diffusion()"
   ]
  },
  {
   "cell_type": "markdown",
   "id": "e72dfe2c",
   "metadata": {},
   "source": [
    "In order to calculate the diffusion coefficient posterior distribution, the [`.diffusion`](https://github.com/kinisi-dev/kinisi/blob/scipp/kinisi/diffusion_analyzer.py#L136) function is called with a specified `start_dt`"
   ]
  },
  {
   "cell_type": "code",
   "execution_count": 7,
   "id": "449d5ab4",
   "metadata": {},
   "outputs": [],
   "source": [
    "start_of_diffusion = 3000 * sc.Unit('fs')\n",
    "diff.diffusion(start_of_diffusion, progress=False, random_state=rng)"
   ]
  },
  {
   "cell_type": "markdown",
   "id": "b9af1ce0",
   "metadata": {},
   "source": [
    "This method initializes the [`Diffusion`](https://github.com/kinisi-dev/kinisi/blob/scipp/kinisi/diffusion.py#L20) class and calls the [`_diffusion`](https://github.com/kinisi-dev/kinisi/blob/scipp/kinisi/diffusion.py#L131) method on the initalized class. \n",
    "\n",
    "Within `_diffusion` the bayesian regression model is produced via MCMC sampling within [`bayesian_regression`](https://github.com/kinisi-dev/kinisi/blob/scipp/kinisi/diffusion.py#L46). \n",
    "\n",
    "This involves the calculation of the full covariance matrix with [`compute_covariance_matrix`](https://github.com/kinisi-dev/kinisi/blob/scipp/kinisi/diffusion.py#L191), matrix conditioning with [`minimum_eigenvalue_method`](https://github.com/kinisi-dev/kinisi/blob/scipp/kinisi/diffusion.py#L257) and then MCMC posterior prediction via the [emcee module](https://emcee.readthedocs.io/en/stable/) and [`posterior_predictive`](https://github.com/kinisi-dev/kinisi/blob/scipp/kinisi/diffusion.py#L209) function.\n",
    "\n",
    "For more information on the bayesian framework used in kinisi, please see the [methodology section](https://kinisi.readthedocs.io/en/latest/methodology.html) of the kinisi documentation.\n",
    "\n",
    "The sampled posterior distribution can then be accessed via the [`.D`](https://github.com/kinisi-dev/kinisi/blob/scipp/kinisi/diffusion.py#L171) property"
   ]
  },
  {
   "cell_type": "code",
   "execution_count": 8,
   "id": "62d5d4d3",
   "metadata": {},
   "outputs": [
    {
     "data": {
      "text/html": [
       "<div><!-- Original source from -->\n",
       "<!-- https://github.com/jsignell/xarray/blob/1d960933ab252e0f79f7e050e6c9261d55568057/xarray/static/html/icons-svg-inline.html -->\n",
       "<svg style=\"position: absolute; width: 0; height: 0; overflow: hidden\">\n",
       "<defs>\n",
       "<symbol id=\"icon-database\" viewBox=\"0 0 32 32\">\n",
       "<title>Show/Hide data repr</title>\n",
       "<path d=\"M16 0c-8.837 0-16 2.239-16 5v4c0 2.761 7.163 5 16 5s16-2.239 16-5v-4c0-2.761-7.163-5-16-5z\"></path>\n",
       "<path d=\"M16 17c-8.837 0-16-2.239-16-5v6c0 2.761 7.163 5 16 5s16-2.239 16-5v-6c0 2.761-7.163 5-16 5z\"></path>\n",
       "<path d=\"M16 26c-8.837 0-16-2.239-16-5v6c0 2.761 7.163 5 16 5s16-2.239 16-5v-6c0 2.761-7.163 5-16 5z\"></path>\n",
       "</symbol>\n",
       "<symbol id=\"icon-file-text2\" viewBox=\"0 0 32 32\">\n",
       "<title>Show/Hide attributes</title>\n",
       "<path d=\"M28.681 7.159c-0.694-0.947-1.662-2.053-2.724-3.116s-2.169-2.030-3.116-2.724c-1.612-1.182-2.393-1.319-2.841-1.319h-15.5c-1.378 0-2.5 1.121-2.5 2.5v27c0 1.378 1.122 2.5 2.5 2.5h23c1.378 0 2.5-1.122 2.5-2.5v-19.5c0-0.448-0.137-1.23-1.319-2.841zM24.543 5.457c0.959 0.959 1.712 1.825 2.268 2.543h-4.811v-4.811c0.718 0.556 1.584 1.309 2.543 2.268zM28 29.5c0 0.271-0.229 0.5-0.5 0.5h-23c-0.271 0-0.5-0.229-0.5-0.5v-27c0-0.271 0.229-0.5 0.5-0.5 0 0 15.499-0 15.5 0v7c0 0.552 0.448 1 1 1h7v19.5z\"></path>\n",
       "<path d=\"M23 26h-14c-0.552 0-1-0.448-1-1s0.448-1 1-1h14c0.552 0 1 0.448 1 1s-0.448 1-1 1z\"></path>\n",
       "<path d=\"M23 22h-14c-0.552 0-1-0.448-1-1s0.448-1 1-1h14c0.552 0 1 0.448 1 1s-0.448 1-1 1z\"></path>\n",
       "<path d=\"M23 18h-14c-0.552 0-1-0.448-1-1s0.448-1 1-1h14c0.552 0 1 0.448 1 1s-0.448 1-1 1z\"></path>\n",
       "</symbol>\n",
       "</defs>\n",
       "</svg><style id=\"scipp-style-sheet\">.sc-root{--sc-background-color0:var(--jp-layout-color0,#fff);--sc-background-color1:var(--jp-layout-color1,#fcfcfc);--sc-background-color2:var(--jp-layout-color2,#efefef);--sc-inverse-background-color0:var(--jp-inverse-layout-color4,#111);--sc-font-color0:var(--jp-content-font-color0,#000);--sc-font-color1:var(--jp-content-font-color1,#555);--sc-font-color2:var(--jp-content-font-color2,#888);--sc-font-color3:var(--jp-content-font-color3,#ccc);}body.vscode-dark .sc-root{--sc-font-color0:rgba(255,255,255,1);--sc-font-color1:rgba(255,255,255,0.70);--sc-font-color2:rgba(255,255,255,0.54);--sc-font-color3:rgba(255,255,255,0.38);--sc-border-color:#1F1F1F;--sc-disabled-color:#515151;--sc-background-color0:#111111;--sc-background-color1:#111111;--sc-background-color2:#313131;}.sc-wrap{font-size:14px;min-width:300px;max-width:800px;}.sc-var-attrs .sc-wrap{padding-left:3em;}.sc-header{padding-top:6px;padding-bottom:6px;margin-bottom:4px;border-bottom:solid 1px #ddd;}.sc-header > div,.sc-header > ul{display:inline;margin-top:0;margin-bottom:0;}.sc-obj-type,.sc-array-name{margin-left:2px;margin-right:10px;}.sc-obj-type{color:var(--sc-font-color1);}.sc-underlying-size{color:var(--sc-font-color2);}.sc-sections,.reveal .sc-sections{padding-left:0 !important;display:grid;grid-template-columns:150px auto auto auto 1fr 20px 20px;}.sc-section-item{display:contents;}.sc-section-item input{display:none;}.sc-section-item input:enabled + label{cursor:pointer;color:var(--sc-font-color1);}.sc-section-item input:enabled + label:hover{color:var(--sc-font-color0);}.sc-section-summary{grid-column:1;font-weight:500;}.sc-section-summary > span{display:inline-block;padding-left:0.5em;}.sc-section-summary-in:disabled + label{color:var(--sc-font-color1);}.sc-section-summary-in + label:before{display:inline-block;content:'►';font-size:11px;width:15px;text-align:center;}.sc-section-summary-in:disabled + label:before{color:var(--sc-font-color3);}.sc-section-summary-in:checked + label:before{content:'▼';}.sc-section-summary-in:checked + label > span{display:none;}.sc-section-summary,.sc-section-inline-details{padding-top:4px;padding-bottom:4px;}.sc-section-inline-details{grid-column:2 / 6;}.sc-section-details{display:none;grid-column:1 / -1;margin-bottom:5px;}.sc-section-summary-in:checked ~ .sc-section-details{display:contents;}.sc-array-wrap{grid-column:1 / -1;display:grid;grid-template-columns:20px auto;}.sc-array-wrap > label{grid-column:1;vertical-align:top;}.sc-preview{color:var(--sc-font-color2);}.sc-array-preview,.sc-array-data{padding:0 5px !important;grid-column:2;}.sc-array-data,.sc-array-in:checked ~ .sc-array-preview{display:none;}.sc-array-in:checked ~ .sc-array-data,.sc-array-preview{display:inline-block;}.sc-dim-list{display:inline-block !important;list-style:none;padding:0 !important;margin:0;}.sc-dim-list li{display:inline-block;padding:0;margin:0!important;}.sc-dim-list:before{content:'(';}.sc-dim-list:after{content:')';}.sc-dim-list li:not(:last-child):after{content:',';padding-right:5px;}.sc-dim-list li span,.sc-standalone-var-name > span span,.sc-var-name > span span{padding:0 !important;}.sc-aligned{font-weight:bold;}.sc-var-list,.sc-var-item,.reveal .sc-var-list,.reveal .sc-var-item{display:contents;}.sc-var-item > div,.sc-var-item label,.sc-var-item > .sc-var-name span{background-color:var(--sc-background-color1);margin-bottom:0;}.sc-var-item > .sc-var-name:hover span{padding-right:5px;}.sc-var-list > li:nth-child(odd) > div,.sc-var-list > li:nth-child(odd) > label,.sc-var-list > li:nth-child(odd) > .sc-var-name span{background-color:var(--sc-background-color2);}.sc-var-name{grid-column:1;}.sc-var-dims{grid-column:2;}.sc-var-dtype{grid-column:3;text-align:right;color:var(--sc-font-color2);}.sc-var-unit{grid-column:4;text-align:left;color:var(--sc-font-color1);max-width:50pt;text-overflow:ellipsis;}.sc-value-preview{grid-column:5;}.sc-var-preview-variances{text-align:right;}.sc-sections .sc-section-item .sc-section-summary,.sc-sections .sc-section-item .sc-section-inline-details,.sc-section-item .sc-var-list .sc-var-item > div,.sc-section-item .sc-var-list .sc-var-item > label,.sc-section-details .sc-var-list .sc-var-item > div,.sc-section-details .sc-var-list .sc-var-item > label{margin-top:0;margin-bottom:0;}.sc-var-name,.sc-var-dims,.sc-var-dtype,.sc-var-unit,.sc-preview,.sc-attrs dt{white-space:nowrap;overflow:hidden;text-overflow:ellipsis;padding-right:10px;}.sc-var-name:hover,.sc-var-dims:hover,.sc-var-dtype:hover,.sc-var-unit:hover,.sc-attrs dt:hover{overflow:visible;width:auto;z-index:1;}.sc-var-attrs{display:block;}.sc-var-data,.reveal .sc-var-data{display:none;}.sc-var-attrs,.sc-var-data{background-color:var(--sc-background-color0) !important;padding-bottom:5px !important;}.sc-var-attrs-in:checked ~ .sc-var-attrs{display:none;}.sc-var-data-in:checked ~ .sc-var-data{display:block;}.sc-var-data > table{float:right;}.sc-var-name span,.sc-var-data{padding-left:25px !important;}.sc-var-attrs,.sc-var-data{grid-column:1 / -1;}dl.sc-attrs{padding:0;margin:0;display:grid;grid-template-columns:125px auto;}.sc-attrs dt,dd{padding:0;margin:0;float:left;padding-right:10px;width:auto;}.sc-attrs dt{font-weight:normal;grid-column:1;}.sc-attrs dt:hover span{display:inline-block;padding-right:10px;}.sc-attrs dd{grid-column:2;white-space:pre-wrap;word-break:break-all;}.sc-icon-database,.sc-icon-file-text2{display:inline-block;vertical-align:middle;width:1em;height:1.5em !important;stroke-width:0;stroke:currentColor;fill:currentColor;}label.sc-hide-icon svg{opacity:0;}.sc-standalone-var-name{grid-column:1/3;}.sc-standalone-var-name span{padding-left:25px;padding-right:10px;}.sc-title{font-weight:bold;font-size:1.5em;}.sc-subtitle{font-weight:normal;font-style:italic;text-align:left;font-size:1.2em;padding:1px;}.sc-label{fill:var(--sc-font-color0,#444444);text-anchor:middle;}.sc-name{fill:var(--sc-font-color0,#111111);}.sc-inset-line{stroke:var(--sc-font-color1);stroke-width:0.05;stroke-dasharray:0.2,0.2;}.sc-log-wrap{height:25ex;resize:vertical;overflow-y:scroll;display:flex;flex-direction:column-reverse;border:1px solid;border-color:var(--jp-border-color2);background-color:var(--sc-background-color1);}div.sc-log{line-height:2.5ex;}table.sc-log{table-layout:auto;border-collapse:collapse;}tr.sc-log:nth-child(even){background-color:var(--sc-background-color0);}tr.sc-log > td{vertical-align:top;padding-bottom:0.5ex;}.sc-log-time-stamp{min-width:22ch;font-family:var(--jp-code-font-family);color:var(--sc-font-color2);}.sc-log-level{min-width:10ch;}tr.sc-log-debug td.sc-log-level{color:var(--jp-accent-color1);}tr.sc-log-info td.sc-log-level{color:var(--jp-info-color1);}tr.sc-log-warning td.sc-log-level{color:var(--jp-warn-color1);}tr.sc-log-error td.sc-log-level{font-weight:bold;color:var(--jp-error-color2);}tr.sc-log-critical td.sc-log-level{font-weight:bold;color:var(--sc-background-color0);background-color:var(--jp-error-color1);}.sc-log-message{white-space:pre-wrap;width:100%;}.sc-log-html-payload{white-space:normal;}.sc-log-name{padding-right:0.5em;text-align:right;white-space:pre-wrap;color:var(--sc-font-color3);}</style><div class='sc-wrap sc-root'><div class='sc-header'><div class='sc-obj-type'>scipp.Variable (25.25 KB)</div></div><ul class='sc-sections'><li class='sc-section-item'><ul class='sc-var-list'><li class='sc-var-item'><div class='sc-standalone-var-name'><span>(samples: 3200)</span></div><div class='sc-var-dtype'>float64</div><div class='sc-var-unit'>cm^2/s</div><div class='sc-value-preview sc-preview'><span><div>1.242e-05, 1.227e-05, ..., 1.405e-05, 1.335e-05</div></span></div><input id='attrs-46807497-fc5b-44ca-a99a-6b582c9f8a0e' class='sc-var-attrs-in' type='checkbox' disabled><label for='attrs-46807497-fc5b-44ca-a99a-6b582c9f8a0e' class='sc-hide-icon' title='Show/Hide attributes'><svg class='icon sc-icon-file-text2'><use xlink:href='#icon-file-text2'></use></svg></label><input id='data-f20e75a1-0629-47c7-ade6-b172d59d3548' class='sc-var-data-in' type='checkbox'><label for='data-f20e75a1-0629-47c7-ade6-b172d59d3548' title='Show/Hide data repr'><svg class='icon sc-icon-database'><use xlink:href='#icon-database'></use></svg></label><pre class='sc-var-data'>Values:<br>array([1.24187826e-05, 1.22727822e-05, 1.33357693e-05, ...,\n",
       "       1.16476720e-05, 1.40545474e-05, 1.33546133e-05])</pre></li></ul></li></ul></div></div>"
      ],
      "text/plain": [
       "<scipp.Variable> (samples: 3200)    float64         [cm^2/s]  [1.24188e-05, 1.22728e-05, ..., 1.40545e-05, 1.33546e-05]"
      ]
     },
     "execution_count": 8,
     "metadata": {},
     "output_type": "execute_result"
    }
   ],
   "source": [
    "diff.D"
   ]
  },
  {
   "cell_type": "markdown",
   "id": "d0a2f749",
   "metadata": {},
   "source": [
    "A flowchart of the classes and main calls can be seen below"
   ]
  },
  {
   "cell_type": "markdown",
   "id": "3a2d5911",
   "metadata": {},
   "source": [
    "![My Diagram](./diffusion_flowchart.png)"
   ]
  },
  {
   "cell_type": "markdown",
   "id": "8cf72774",
   "metadata": {},
   "source": [
    "That concludes the brief run down of the kinisi code base, if you would like to get involved with development, please see the issues list on the GitHub repo, or feel free to raise your own or reach out to one of the current developers. \n",
    "\n",
    "Happy developing :) \n"
   ]
  }
 ],
 "metadata": {
  "kernelspec": {
   "display_name": "Fresh",
   "language": "python",
   "name": "python3"
  },
  "language_info": {
   "codemirror_mode": {
    "name": "ipython",
    "version": 3
   },
   "file_extension": ".py",
   "mimetype": "text/x-python",
   "name": "python",
   "nbconvert_exporter": "python",
   "pygments_lexer": "ipython3",
   "version": "3.12.9"
  }
 },
 "nbformat": 4,
 "nbformat_minor": 5
}
