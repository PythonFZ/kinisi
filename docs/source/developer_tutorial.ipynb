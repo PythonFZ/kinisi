{
 "cells": [
  {
   "cell_type": "markdown",
   "id": "058b147f",
   "metadata": {},
   "source": [
    "To begin to develop the `kinisi` code, you should clone the git repository and install `kinisi` with the `dev` option in editable mode. \n",
    "\n",
    "```console\n",
    "$ git clone https://github.com/bjmorgan/kinisi.git\n",
    "$ cd kinisi\n",
    "$ pip install -e '.[dev]'\n",
    "```"
   ]
  },
  {
   "cell_type": "markdown",
   "id": "0c331029",
   "metadata": {},
   "source": [
    "# DiffusionAnalyzer and JumpDiffusionAnalyzer"
   ]
  },
  {
   "cell_type": "markdown",
   "id": "3799b256",
   "metadata": {},
   "source": [
    "Within `kinisi` the main classes the end user will interact with are `diffusion_analyzer` and `jump_diffusion_analyzer`. \n",
    "\n",
    "These are typically called with 3 main methods depending on the type of trajectory these are:\n",
    "\n",
    "* `from_universe` - For MDAnalysis Universe\n",
    "* `from_xdatcar` - For Pymatgen Structures\n",
    "* `from_ase` - For ASE objects\n",
    "\n",
    "\n",
    "\n",
    "For instance, `DiffusionAnalyzer.from_xdatcar` can be called as in the Diffusion Coeffcienct from a VASP file workbook `vasp_d.ipynb` via"
   ]
  },
  {
   "cell_type": "code",
   "execution_count": null,
   "id": "30b74559",
   "metadata": {},
   "outputs": [],
   "source": [
    "import numpy as np\n",
    "import matplotlib.pyplot as plt\n",
    "import scipp as sc\n",
    "from pymatgen.io.vasp import Xdatcar\n",
    "from kinisi.analyze import DiffusionAnalyzer\n",
    "rng = np.random.RandomState(42)\n",
    "\n",
    "params = {'specie': 'Li',\n",
    "          'time_step': 2.0 * sc.Unit('fs'),\n",
    "          'step_skip': 50 * sc.Unit('dimensionless'),\n",
    "          }\n",
    "\n",
    "\n",
    "params['dimension']= 'xy'\n",
    "\n",
    "xd = Xdatcar('./example_XDATCAR.gz')\n",
    "diff = DiffusionAnalyzer.from_xdatcar(xd, **params)"
   ]
  },
  {
   "cell_type": "markdown",
   "id": "4331a507",
   "metadata": {},
   "source": [
    "`DiffusionAnalyzer` is a subclass of `Analyzer` and so upon its initialization `Analyzer` is initialized first, `DiffusionAnalyzer` inherits from the `Analyzer`.\n",
    "\n",
    "```python\n",
    "\n",
    "class DiffusionAnalyzer(Analyzer):\n",
    "\n",
    "```\n",
    "\n",
    "\n",
    "The `from_` class method of the `DiffusionAnalyzer` calls the Analyzer class `_from_` method via a super(), i.e. within `from_universe`\n",
    "\n",
    "```python\n",
    "\n",
    "p = super()._from_universe(trajectory, specie, time_step, step_skip, dtype, dt, dimension, distance_unit,\n",
    "                            specie_indices, masses, progress)\n",
    "\n",
    "```\n",
    "\n",
    "Within the `_from_` methods the respective parser is called for each frame in the trajectory, similarly to above there are 3 parser classes : \n",
    "\n",
    "\n",
    "* `MDAnalysis_parser` - For MDAnalysis Universe\n",
    "* `PymatgenParser` - For Pymatgen Structures\n",
    "* `ASE_parser` - For ASE objects\n",
    "\n",
    "\n",
    "Each respective parser class is sub class of the full `Parser` class. \n",
    "\n",
    "```python \n",
    "\n",
    "class PymatgenParser(Parser):\n",
    "\n",
    "```\n",
    "\n",
    "**The parser indexes the correct molecules and particle coordinates for a timestep.**\n",
    "\n",
    "**The Analyzer calls the parser for all the chosen time steps and calculates displacements.**\n",
    "\n",
    "**The DiffusionAnalyzer then calculates the mean squared displacements (MSD) and variances for each time interval.**\n",
    "\n",
    "A flowchart of the classes and inheritance can be seen below\n",
    "\n"
   ]
  },
  {
   "cell_type": "markdown",
   "id": "525f47c4",
   "metadata": {},
   "source": [
    "![My Diagram](./diffusion_analyzer_flowchart.png)"
   ]
  },
  {
   "cell_type": "markdown",
   "id": "44a0b5dd",
   "metadata": {},
   "source": [
    "# DiffusionAnalyzer.diffusion()"
   ]
  },
  {
   "cell_type": "markdown",
   "id": "e72dfe2c",
   "metadata": {},
   "source": [
    "In order to calculate the diffusion coefficient "
   ]
  },
  {
   "cell_type": "code",
   "execution_count": null,
   "id": "449d5ab4",
   "metadata": {},
   "outputs": [],
   "source": []
  }
 ],
 "metadata": {
  "kernelspec": {
   "display_name": "Fresh",
   "language": "python",
   "name": "python3"
  },
  "language_info": {
   "codemirror_mode": {
    "name": "ipython",
    "version": 3
   },
   "file_extension": ".py",
   "mimetype": "text/x-python",
   "name": "python",
   "nbconvert_exporter": "python",
   "pygments_lexer": "ipython3",
   "version": "3.12.9"
  }
 },
 "nbformat": 4,
 "nbformat_minor": 5
}
