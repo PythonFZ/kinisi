{
 "cells": [
  {
   "cell_type": "markdown",
   "id": "235dee9e-d50a-4cb4-8c25-fa0f3fc33c50",
   "metadata": {},
   "source": [
    "# Diffusion coefficient of molecules using center of mass\n",
    "\n",
    "`Kinisi` includes the ability to calculate the mean-squared displacement and diffusion coefficient of the center of mass (or geometry) of molecules. This can be done for a single molecule or a collection of molecules. It is important to note that inclusion of rotational motion in the calcuation of diffusion coeffiencents can lead to erronious results. This rotation can be elminated from the calculation by taking the center of mass for each molecule."
   ]
  },
  {
   "cell_type": "code",
   "execution_count": 1,
   "id": "cc9626ec-5a7d-4be9-a23c-6721f6f4addc",
   "metadata": {},
   "outputs": [],
   "source": [
    "import numpy as np\n",
    "from ase.io import read\n",
    "import matplotlib.pyplot as plt\n",
    "from kinisi.analyze import DiffusionAnalyzer\n",
    "import scipp as sc"
   ]
  },
  {
   "cell_type": "markdown",
   "id": "144679f3-d48e-49af-a7bb-4f9a4d5cd02e",
   "metadata": {},
   "source": [
    "We will use a simulation of ethene in ZSM-5 zeolite. This was run in DL_POLY, so we will use `ASE` to load in the trajectory (HISTORY) file. "
   ]
  },
  {
   "cell_type": "code",
   "execution_count": null,
   "id": "7ef08635",
   "metadata": {},
   "outputs": [],
   "source": []
  },
  {
   "cell_type": "code",
   "execution_count": null,
   "id": "e7c6a6ab-8511-4f61-9b1c-c062dae23d23",
   "metadata": {},
   "outputs": [],
   "source": [
    "traj = read('ethene_zeo_HISTORY.gz', format='dlp-history', index=':')"
   ]
  },
  {
   "cell_type": "markdown",
   "id": "9afa4b93-7e49-4a83-9426-fbef4aaf8ecc",
   "metadata": {},
   "source": [
    "We want to calculate the diffusion of the center of mass of the ethene molecule. This can be done by setting `specie` to None and specifying the indices of the molecules of interest in `specie_indices`. To define molecules, a list of lists should be passed under the `specie_indices` keyword. The outer list has one entry per molecule and each inter list has the indices of that molecule. Only identical molecules are supported. The masses of the atoms in the molecules can be specified with `masses`. This must be a list with the same length as a molecule (the length of one of the inner lists in `specie_indices`)."
   ]
  },
  {
   "cell_type": "code",
   "execution_count": 3,
   "id": "61cc6b61-7e5b-4b87-ab8c-58ba55def62e",
   "metadata": {},
   "outputs": [],
   "source": [
    "molecules = [[288, 289, 290,   291,   292,   293],\n",
    "             [284, 295, 296,   297,   298,   299]]\n",
    "mass    =  [12,  12,  1.008, 1.008, 1.008, 1.008]\n",
    "\n",
    "params = {'specie': None,\n",
    "           'time_step': 1.2e-03 * sc.Unit('ps'),\n",
    "           'step_skip': 100 * sc.Unit('dimensionless'),\n",
    "           'specie_indices': sc.array(dims=['atom','group_of_atoms'], values=molecules, unit=sc.Unit('dimensionless')),\n",
    "           'masses': sc.array(dims = ['group_of_atoms'], values = mass),\n",
    "           'progress': False\n",
    "           }\n"
   ]
  },
  {
   "cell_type": "code",
   "execution_count": 4,
   "id": "f56f4c74",
   "metadata": {},
   "outputs": [],
   "source": [
    "x = sc.array(dims = ['group_of_atoms'], values = mass)\n",
    "y = sc.array(dims=['atom','group_of_atoms'], values=molecules, unit=sc.Unit('dimensionless'))"
   ]
  },
  {
   "cell_type": "markdown",
   "id": "c9b5ea9a-2ba1-4d2b-8c27-e6a479721289",
   "metadata": {},
   "source": [
    "With the parameters set, we now calcuate the mean squared-displacement."
   ]
  },
  {
   "cell_type": "code",
   "execution_count": 5,
   "id": "018a6b82-7eb3-4229-ae25-d143ca4cd382",
   "metadata": {},
   "outputs": [
    {
     "name": "stderr",
     "output_type": "stream",
     "text": [
      "Reading Trajectory: 100%|██████████| 2001/2001 [00:00<00:00, 7844.66it/s]\n"
     ]
    },
    {
     "ename": "TypeError",
     "evalue": "unsupported operand type(s) for *: 'scipp._scipp.core.Variable' and 'NoneType'",
     "output_type": "error",
     "traceback": [
      "\u001b[31m---------------------------------------------------------------------------\u001b[39m",
      "\u001b[31mTypeError\u001b[39m                                 Traceback (most recent call last)",
      "\u001b[36mCell\u001b[39m\u001b[36m \u001b[39m\u001b[32mIn[5]\u001b[39m\u001b[32m, line 1\u001b[39m\n\u001b[32m----> \u001b[39m\u001b[32m1\u001b[39m diff = \u001b[43mDiffusionAnalyzer\u001b[49m\u001b[43m.\u001b[49m\u001b[43mfrom_ase\u001b[49m\u001b[43m(\u001b[49m\u001b[43mtraj\u001b[49m\u001b[43m,\u001b[49m\u001b[43m \u001b[49m\u001b[43m*\u001b[49m\u001b[43m*\u001b[49m\u001b[43mparams\u001b[49m\u001b[43m)\u001b[49m\n",
      "\u001b[36mFile \u001b[39m\u001b[32m~/Documents/kinisi/kinisi/diffusion_analyzer.py:206\u001b[39m, in \u001b[36mDiffusionAnalyzer.from_ase\u001b[39m\u001b[34m(cls, trajectory, specie, time_step, step_skip, dtype, dt, dimension, distance_unit, specie_indices, masses, progress)\u001b[39m\n\u001b[32m    162\u001b[39m \u001b[38;5;129m@classmethod\u001b[39m\n\u001b[32m    163\u001b[39m \u001b[38;5;28;01mdef\u001b[39;00m\u001b[38;5;250m \u001b[39m\u001b[34mfrom_ase\u001b[39m(\n\u001b[32m    164\u001b[39m     \u001b[38;5;28mcls\u001b[39m,\n\u001b[32m   (...)\u001b[39m\u001b[32m    175\u001b[39m     progress: \u001b[38;5;28mbool\u001b[39m = \u001b[38;5;28;01mTrue\u001b[39;00m,\n\u001b[32m    176\u001b[39m ) -> \u001b[33m'\u001b[39m\u001b[33mDiffusionAnalyzer\u001b[39m\u001b[33m'\u001b[39m:\n\u001b[32m    177\u001b[39m \u001b[38;5;250m    \u001b[39m\u001b[33;03m\"\"\"\u001b[39;00m\n\u001b[32m    178\u001b[39m \u001b[33;03m    Constructs the necessary :py:mod:`kinisi` objects for analysis from an ASE trajectory.\u001b[39;00m\n\u001b[32m    179\u001b[39m \n\u001b[32m   (...)\u001b[39m\u001b[32m    204\u001b[39m \u001b[33;03m    :returns: The :py:class:`DiffusionAnalyzer` object with the mean-squared displacement calculated.\u001b[39;00m\n\u001b[32m    205\u001b[39m \u001b[33;03m    \"\"\"\u001b[39;00m\n\u001b[32m--> \u001b[39m\u001b[32m206\u001b[39m     p = \u001b[38;5;28;43msuper\u001b[39;49m\u001b[43m(\u001b[49m\u001b[43m)\u001b[49m\u001b[43m.\u001b[49m\u001b[43m_from_ase\u001b[49m\u001b[43m(\u001b[49m\n\u001b[32m    207\u001b[39m \u001b[43m        \u001b[49m\u001b[43mtrajectory\u001b[49m\u001b[43m,\u001b[49m\n\u001b[32m    208\u001b[39m \u001b[43m        \u001b[49m\u001b[43mspecie\u001b[49m\u001b[43m,\u001b[49m\n\u001b[32m    209\u001b[39m \u001b[43m        \u001b[49m\u001b[43mtime_step\u001b[49m\u001b[43m,\u001b[49m\n\u001b[32m    210\u001b[39m \u001b[43m        \u001b[49m\u001b[43mstep_skip\u001b[49m\u001b[43m,\u001b[49m\n\u001b[32m    211\u001b[39m \u001b[43m        \u001b[49m\u001b[43mdtype\u001b[49m\u001b[43m,\u001b[49m\n\u001b[32m    212\u001b[39m \u001b[43m        \u001b[49m\u001b[43mdt\u001b[49m\u001b[43m,\u001b[49m\n\u001b[32m    213\u001b[39m \u001b[43m        \u001b[49m\u001b[43mdimension\u001b[49m\u001b[43m,\u001b[49m\n\u001b[32m    214\u001b[39m \u001b[43m        \u001b[49m\u001b[43mdistance_unit\u001b[49m\u001b[43m,\u001b[49m\n\u001b[32m    215\u001b[39m \u001b[43m        \u001b[49m\u001b[43mspecie_indices\u001b[49m\u001b[43m,\u001b[49m\n\u001b[32m    216\u001b[39m \u001b[43m        \u001b[49m\u001b[43mmasses\u001b[49m\u001b[43m,\u001b[49m\n\u001b[32m    217\u001b[39m \u001b[43m        \u001b[49m\u001b[43mprogress\u001b[49m\u001b[43m,\u001b[49m\n\u001b[32m    218\u001b[39m \u001b[43m    \u001b[49m\u001b[43m)\u001b[49m\n\u001b[32m    219\u001b[39m     p._da = calculate_msd(p.trajectory, progress)\n\u001b[32m    220\u001b[39m     \u001b[38;5;28;01mreturn\u001b[39;00m p\n",
      "\u001b[36mFile \u001b[39m\u001b[32m~/Documents/kinisi/kinisi/analyzer.py:241\u001b[39m, in \u001b[36mAnalyzer._from_ase\u001b[39m\u001b[34m(cls, trajectory, specie, time_step, step_skip, dtype, dt, dimension, distance_unit, specie_indices, masses, progress)\u001b[39m\n\u001b[32m    236\u001b[39m \u001b[38;5;250m\u001b[39m\u001b[33;03m\"\"\"\u001b[39;00m\n\u001b[32m    237\u001b[39m \u001b[33;03mConstructs the necessary :py:mod:`kinisi` objects for analysis from a single or a list of\u001b[39;00m\n\u001b[32m    238\u001b[39m \u001b[33;03m:py:class:`ase.io.trajectory.Trajectory` objects.\u001b[39;00m\n\u001b[32m    239\u001b[39m \u001b[33;03m\"\"\"\u001b[39;00m\n\u001b[32m    240\u001b[39m \u001b[38;5;28;01mif\u001b[39;00m dtype \u001b[38;5;129;01mis\u001b[39;00m \u001b[38;5;28;01mNone\u001b[39;00m:\n\u001b[32m--> \u001b[39m\u001b[32m241\u001b[39m     p = \u001b[43mASEParser\u001b[49m\u001b[43m(\u001b[49m\n\u001b[32m    242\u001b[39m \u001b[43m        \u001b[49m\u001b[43mtrajectory\u001b[49m\u001b[43m,\u001b[49m\u001b[43m \u001b[49m\u001b[43mspecie\u001b[49m\u001b[43m,\u001b[49m\u001b[43m \u001b[49m\u001b[43mtime_step\u001b[49m\u001b[43m,\u001b[49m\u001b[43m \u001b[49m\u001b[43mstep_skip\u001b[49m\u001b[43m,\u001b[49m\u001b[43m \u001b[49m\u001b[43mdt\u001b[49m\u001b[43m,\u001b[49m\u001b[43m \u001b[49m\u001b[43mdimension\u001b[49m\u001b[43m,\u001b[49m\u001b[43m \u001b[49m\u001b[43mdistance_unit\u001b[49m\u001b[43m,\u001b[49m\u001b[43m \u001b[49m\u001b[43mspecie_indices\u001b[49m\u001b[43m,\u001b[49m\u001b[43m \u001b[49m\u001b[43mmasses\u001b[49m\u001b[43m,\u001b[49m\u001b[43m \u001b[49m\u001b[43mprogress\u001b[49m\n\u001b[32m    243\u001b[39m \u001b[43m    \u001b[49m\u001b[43m)\u001b[49m\n\u001b[32m    244\u001b[39m     \u001b[38;5;28;01mreturn\u001b[39;00m \u001b[38;5;28mcls\u001b[39m(p)\n\u001b[32m    245\u001b[39m \u001b[38;5;28;01melif\u001b[39;00m dtype == \u001b[33m'\u001b[39m\u001b[33midentical\u001b[39m\u001b[33m'\u001b[39m:\n",
      "\u001b[36mFile \u001b[39m\u001b[32m~/Documents/kinisi/kinisi/ase.py:76\u001b[39m, in \u001b[36mASEParser.__init__\u001b[39m\u001b[34m(self, atoms, specie, time_step, step_skip, dt, dimension, distance_unit, specie_indices, drift_indices, masses, progress)\u001b[39m\n\u001b[32m     73\u001b[39m     \u001b[38;5;28;01mif\u001b[39;00m specie \u001b[38;5;129;01mis\u001b[39;00m \u001b[38;5;129;01mnot\u001b[39;00m \u001b[38;5;28;01mNone\u001b[39;00m:\n\u001b[32m     74\u001b[39m         specie_indices, drift_indices = \u001b[38;5;28mself\u001b[39m.get_indices(atoms, specie)\n\u001b[32m---> \u001b[39m\u001b[32m76\u001b[39m \u001b[38;5;28;43msuper\u001b[39;49m\u001b[43m(\u001b[49m\u001b[43m)\u001b[49m\u001b[43m.\u001b[49m\u001b[34;43m__init__\u001b[39;49m\u001b[43m(\u001b[49m\n\u001b[32m     77\u001b[39m \u001b[43m    \u001b[49m\u001b[43matoms\u001b[49m\u001b[43m,\u001b[49m\u001b[43m \u001b[49m\u001b[43mcoords\u001b[49m\u001b[43m,\u001b[49m\u001b[43m \u001b[49m\u001b[43mlatt\u001b[49m\u001b[43m,\u001b[49m\u001b[43m \u001b[49m\u001b[43mspecie\u001b[49m\u001b[43m,\u001b[49m\u001b[43m \u001b[49m\u001b[43mtime_step\u001b[49m\u001b[43m,\u001b[49m\u001b[43m \u001b[49m\u001b[43mstep_skip\u001b[49m\u001b[43m,\u001b[49m\u001b[43m \u001b[49m\u001b[43mdt\u001b[49m\u001b[43m,\u001b[49m\u001b[43m \u001b[49m\u001b[43mspecie_indices\u001b[49m\u001b[43m,\u001b[49m\u001b[43m \u001b[49m\u001b[43mmasses\u001b[49m\u001b[43m,\u001b[49m\u001b[43m \u001b[49m\u001b[43mdimension\u001b[49m\n\u001b[32m     78\u001b[39m \u001b[43m\u001b[49m\u001b[43m)\u001b[49m\n",
      "\u001b[36mFile \u001b[39m\u001b[32m~/Documents/kinisi/kinisi/parser.py:86\u001b[39m, in \u001b[36mParser.__init__\u001b[39m\u001b[34m(self, structure, coords, latt, time_step, step_skip, dt, specie_indices, drift_indices, masses, dimension)\u001b[39m\n\u001b[32m     83\u001b[39m \u001b[38;5;28mself\u001b[39m._dimension = dimension\n\u001b[32m     84\u001b[39m \u001b[38;5;28mself\u001b[39m.dt = dt\n\u001b[32m---> \u001b[39m\u001b[32m86\u001b[39m \u001b[38;5;28mself\u001b[39m.dt_index = \u001b[38;5;28;43mself\u001b[39;49m\u001b[43m.\u001b[49m\u001b[43mcreate_integer_dt\u001b[49m\u001b[43m(\u001b[49m\u001b[43mcoords\u001b[49m\u001b[43m,\u001b[49m\u001b[43m \u001b[49m\u001b[43mtime_step\u001b[49m\u001b[43m,\u001b[49m\u001b[43m \u001b[49m\u001b[43mstep_skip\u001b[49m\u001b[43m)\u001b[49m\n\u001b[32m     88\u001b[39m \u001b[38;5;28;01mif\u001b[39;00m \u001b[38;5;129;01mnot\u001b[39;00m \u001b[38;5;28misinstance\u001b[39m(specie_indices, sc.Variable):\n\u001b[32m     89\u001b[39m     \u001b[38;5;28;01mraise\u001b[39;00m \u001b[38;5;167;01mTypeError\u001b[39;00m(\u001b[33m'\u001b[39m\u001b[33mUnrecognized type for specie_indices, specie_indices must be a scipp VariableLikeType\u001b[39m\u001b[33m'\u001b[39m)\n",
      "\u001b[36mFile \u001b[39m\u001b[32m~/Documents/kinisi/kinisi/parser.py:174\u001b[39m, in \u001b[36mParser.create_integer_dt\u001b[39m\u001b[34m(self, coords, time_step, step_skip)\u001b[39m\n\u001b[32m    148\u001b[39m \u001b[38;5;28;01mdef\u001b[39;00m\u001b[38;5;250m \u001b[39m\u001b[34mcreate_integer_dt\u001b[39m(\n\u001b[32m    149\u001b[39m     \u001b[38;5;28mself\u001b[39m,\n\u001b[32m    150\u001b[39m     coords: VariableLikeType,\n\u001b[32m    151\u001b[39m     time_step: VariableLikeType,\n\u001b[32m    152\u001b[39m     step_skip: VariableLikeType,\n\u001b[32m    153\u001b[39m ) -> VariableLikeType:\n\u001b[32m    154\u001b[39m \u001b[38;5;250m    \u001b[39m\u001b[33;03m\"\"\"\u001b[39;00m\n\u001b[32m    155\u001b[39m \u001b[33;03m    Create an integer time interval from the given time intervals (and if necessary the time interval object).\u001b[39;00m\n\u001b[32m    156\u001b[39m \u001b[33;03m    Also checks that the time intervals provided in the dt parameter are a valid subset of the simulation time\u001b[39;00m\n\u001b[32m   (...)\u001b[39m\u001b[32m    172\u001b[39m \u001b[33;03m    :return: The integer time intervals as a :py:mod:`scipp` array with dimensions of 'time interval'.\u001b[39;00m\n\u001b[32m    173\u001b[39m \u001b[33;03m    \"\"\"\u001b[39;00m\n\u001b[32m--> \u001b[39m\u001b[32m174\u001b[39m     dt_all = \u001b[43msc\u001b[49m\u001b[43m.\u001b[49m\u001b[43marange\u001b[49m\u001b[43m(\u001b[49m\u001b[43mstart\u001b[49m\u001b[43m=\u001b[49m\u001b[32;43m1\u001b[39;49m\u001b[43m,\u001b[49m\u001b[43m \u001b[49m\u001b[43mstop\u001b[49m\u001b[43m=\u001b[49m\u001b[43mcoords\u001b[49m\u001b[43m.\u001b[49m\u001b[43msizes\u001b[49m\u001b[43m[\u001b[49m\u001b[33;43m'\u001b[39;49m\u001b[33;43mtime\u001b[39;49m\u001b[33;43m'\u001b[39;49m\u001b[43m]\u001b[49m\u001b[43m,\u001b[49m\u001b[43m \u001b[49m\u001b[43mstep\u001b[49m\u001b[43m=\u001b[49m\u001b[32;43m1\u001b[39;49m\u001b[43m,\u001b[49m\u001b[43m \u001b[49m\u001b[43mdim\u001b[49m\u001b[43m=\u001b[49m\u001b[33;43m'\u001b[39;49m\u001b[33;43mtime interval\u001b[39;49m\u001b[33;43m'\u001b[39;49m\u001b[43m)\u001b[49m\u001b[43m \u001b[49m\u001b[43m*\u001b[49m\u001b[43m \u001b[49m\u001b[43mtime_step\u001b[49m * step_skip\n\u001b[32m    175\u001b[39m     \u001b[38;5;28;01mif\u001b[39;00m \u001b[38;5;28mself\u001b[39m.dt \u001b[38;5;129;01mis\u001b[39;00m \u001b[38;5;129;01mnot\u001b[39;00m \u001b[38;5;28;01mNone\u001b[39;00m:\n\u001b[32m    176\u001b[39m         \u001b[38;5;28;01mif\u001b[39;00m \u001b[38;5;129;01mnot\u001b[39;00m is_subset_approx(\u001b[38;5;28mself\u001b[39m.dt.values, dt_all.values):\n",
      "\u001b[31mTypeError\u001b[39m: unsupported operand type(s) for *: 'scipp._scipp.core.Variable' and 'NoneType'"
     ]
    }
   ],
   "source": [
    "diff = DiffusionAnalyzer.from_ase(traj, **params)"
   ]
  },
  {
   "cell_type": "code",
   "execution_count": null,
   "id": "043ab741-2814-4289-8ed3-5e7a6a17590b",
   "metadata": {},
   "outputs": [],
   "source": [
    "plt.errorbar(diff.dt, diff.msd, diff.msd_std)\n",
    "plt.ylabel('MSD/Å$^2$')\n",
    "plt.xlabel(r'$\\Delta t$/ps')\n",
    "plt.show()"
   ]
  },
  {
   "cell_type": "code",
   "execution_count": null,
   "id": "bc9db243-e5f4-4401-b337-f37eb9e9e4da",
   "metadata": {},
   "outputs": [],
   "source": [
    "diff.diffusion(50, {'progress': False})"
   ]
  },
  {
   "cell_type": "code",
   "execution_count": null,
   "id": "4787d956-9134-4116-904d-3b6bb8840f78",
   "metadata": {},
   "outputs": [],
   "source": [
    "diff.D.n, diff.D.ci()"
   ]
  },
  {
   "cell_type": "code",
   "execution_count": null,
   "id": "e8d462cb-97c9-45c9-bc42-cecfe2e98cb1",
   "metadata": {},
   "outputs": [],
   "source": [
    "diff.intercept.n, diff.intercept.ci()"
   ]
  },
  {
   "cell_type": "code",
   "execution_count": null,
   "id": "efe816d8-9994-4e1d-89f9-2c85f1e5695f",
   "metadata": {},
   "outputs": [],
   "source": [
    "diff.D.samples"
   ]
  },
  {
   "cell_type": "code",
   "execution_count": null,
   "id": "24f70169-6ce7-48c0-ba7b-8c4d04070a35",
   "metadata": {},
   "outputs": [],
   "source": [
    "credible_intervals = [[16, 84], [2.5, 97.5], [0.15, 99.85]]\n",
    "alpha = [0.6, 0.4, 0.2]\n",
    "\n",
    "plt.plot(diff.dt, diff.msd, 'k-')\n",
    "for i, ci in enumerate(credible_intervals):\n",
    "    plt.fill_between(diff.dt,\n",
    "                     *np.percentile(diff.distribution, ci, axis=1),\n",
    "                     alpha=alpha[i],\n",
    "                     color='#0173B2',\n",
    "                     lw=0)\n",
    "plt.ylabel('MSD/Å$^2$')\n",
    "plt.xlabel(r'$\\Delta t$/ps')\n",
    "plt.show()"
   ]
  },
  {
   "cell_type": "code",
   "execution_count": null,
   "id": "b94b1262-a061-45d3-b576-c550df6028d6",
   "metadata": {},
   "outputs": [],
   "source": [
    "plt.hist(diff.D.samples, density=True)\n",
    "plt.axvline(diff.D.n, c='k')\n",
    "plt.xlabel('$D$/cm$^2$s$^{-1}$')\n",
    "plt.ylabel('$p(D$/cm$^2$s$^{-1})$')\n",
    "plt.show()"
   ]
  }
 ],
 "metadata": {
  "kernelspec": {
   "display_name": "Fresh",
   "language": "python",
   "name": "python3"
  },
  "language_info": {
   "codemirror_mode": {
    "name": "ipython",
    "version": 3
   },
   "file_extension": ".py",
   "mimetype": "text/x-python",
   "name": "python",
   "nbconvert_exporter": "python",
   "pygments_lexer": "ipython3",
   "version": "3.12.9"
  }
 },
 "nbformat": 4,
 "nbformat_minor": 5
}
