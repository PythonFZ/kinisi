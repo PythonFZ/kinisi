{
 "cells": [
  {
   "cell_type": "markdown",
   "id": "d62aac6f-f4dd-46f6-8b2d-c092d3b6bf38",
   "metadata": {},
   "source": [
    "# Methodology\n",
    "\n",
    "The aim of investigating the mean-squared displacements as a function of timestep is to fit a straight line and therefore obtain a estimate of the infinite timescale diffusion coefficient. \n",
    "This might seem like a straight forward concept, however, for a real simulation, with a limited number of atoms and simulation length, the observed value of the diffusion coefficient will vary upon repetition of a given simulation.\n",
    "`kinisi` is a Python library that is capable of: \n",
    "<ol>\n",
    "<li> Accurately estimating the infinite timescale diffusion coefficient from a single simulation</li>\n",
    "<li> Quantifying the variance in the diffusion coefficient that would be observed on repetition of the simulation</li>\n",
    "</ol>\n",
    "\n",
    "In order to achieve this, it is neccessary to build up a complete picture of the observed diffusion from the simulation and use this information to apply the approach with the highest [statistical efficiency](https://en.wikipedia.org/wiki/Efficiency_(statistics)) to estimate the diffusion coefficient. \n",
    "The different approach that can be taken to estimate this are shown in the schematic below, which we will work through below.\n",
    "\n",
    "Note, that this is **not** aimed to show how `kinisi` should be run but rather to outline the methodology that `kinisi` uses.\n",
    "Examples of how to run `kinisi` from the API can be found in the [notebooks](./notebooks.md). \n",
    "\n",
    "<img src=\"./_static/schematic_light.png\" class=\"only-light\">\n",
    "<img src=\"./_static/schematic_dark.png\" class=\"only-dark\">\n",
    "\n",
    "<center>\n",
    "    <small>\n",
    "        A schematic of the process of diffusion coefficient determination, where the process used in `kinisi` is identified with the pink box.\n",
    "    </small>\n",
    "</center>\n",
    "\n",
    "\n",
    "## Finding the mean-squared displacement\n",
    "\n",
    "Consider first the displacements that we calculate from an atomic simulation. \n",
    "We have performed a simulation of lithium lanthanum zirconium oxide (LLZO) to use as an example, we will consider initially the displacements, $\\mathbf{x}$, that occur in 5 ps of simulation time. "
   ]
  },
  {
   "cell_type": "code",
   "execution_count": 20,
   "id": "a849431d-372b-444b-8d36-39b4b0edb988",
   "metadata": {
    "tags": []
   },
   "outputs": [],
   "source": [
    "import numpy as np\n",
    "import matplotlib.pyplot as plt\n",
    "from scipy.stats import multivariate_normal\n",
    "from scipy.optimize import minimize\n",
    "from emcee import EnsembleSampler\n",
    "from corner import corner"
   ]
  },
  {
   "cell_type": "code",
   "execution_count": null,
   "id": "514a4384-9419-490b-896c-2277c452116b",
   "metadata": {
    "tags": []
   },
   "outputs": [],
   "source": [
    "displacements = np.load('_static/displacements.npz')['disp']\n",
    "\n",
    "print('Displacements shape', displacements.shape)"
   ]
  },
  {
   "cell_type": "markdown",
   "id": "f91522a3-7c5a-45c8-91b7-642c759646e8",
   "metadata": {},
   "source": [
    "We can see that for this timestep, the `displacements` array has a shape of `(192, 6, 3)` this means that there are 192 atoms, each observed 6 times (i.e. in the whole simulation there 6 non-overlapping times that 2.1 ps of simulation is present), for 3 dimensions. \n",
    "Let us now visualise the probability distribution for the displacements. "
   ]
  },
  {
   "cell_type": "code",
   "execution_count": null,
   "id": "4e5db898-0ff1-4e5b-b4b8-2ef45024776c",
   "metadata": {
    "tags": []
   },
   "outputs": [],
   "source": [
    "plt.hist(displacements.flatten(), bins=50, \n",
    "         density=True, color='#0173B2')\n",
    "plt.xlabel('$\\mathbf{x}(5\\;\\mathrm{ps})$/Å$^2$')\n",
    "plt.ylabel('$p[\\mathbf{x}(5\\;\\mathrm{ps})]$Å$^{-2}$')\n",
    "plt.xlim(-6, 6)\n",
    "plt.show()"
   ]
  },
  {
   "cell_type": "markdown",
   "id": "9e56eb2f-a3e3-4555-8ee7-90c1da3546f3",
   "metadata": {},
   "source": [
    "The ordinate axis in the fitting of the Einstein equation is the mean of the squared displacements, $\\mathbf{r}^2$, therefore we must square these displacements and determine the total displacement over all dimensions. "
   ]
  },
  {
   "cell_type": "code",
   "execution_count": null,
   "id": "2c1fb7d4-f763-401f-b7f8-92ee350de79e",
   "metadata": {
    "tags": []
   },
   "outputs": [],
   "source": [
    "sq_displacements = np.sum(displacements ** 2, \n",
    "                          axis=2).flatten()\n",
    "\n",
    "plt.hist(sq_displacements, bins=50, \n",
    "         density=True, color='#0173B2')\n",
    "plt.xlabel('$\\mathbf{s}^2$/Å$^2$')\n",
    "plt.ylabel('$p(\\mathbf{s}^2)$/Å$^{-2}$')\n",
    "plt.show()"
   ]
  },
  {
   "cell_type": "markdown",
   "id": "46553b73-e8ba-4534-bc28-26e7ea8721a2",
   "metadata": {},
   "source": [
    "The mean of these squared displacements, $\\langle\\mathbf{r}^2\\rangle$, can be found as the numerical mean.\n",
    "Below, the mean is shown as a black vertical line over the histogram of the squared displacements. "
   ]
  },
  {
   "cell_type": "code",
   "execution_count": null,
   "id": "6e7e3974-8041-457c-b4b9-9ae0a7dab794",
   "metadata": {
    "tags": []
   },
   "outputs": [],
   "source": [
    "msd = np.mean(sq_displacements)\n",
    "\n",
    "print(f'MSD = {msd:.3f} Å$^2$')\n",
    "\n",
    "plt.hist(sq_displacements, bins=50, \n",
    "         density=True, color='#0173B2')\n",
    "plt.axvline(msd, color='k')\n",
    "plt.xlabel('$\\mathbf{s}^2$/Å$^2$')\n",
    "plt.ylabel('$p(\\mathbf{s}^2)$/Å$^{-2}$')\n",
    "plt.show()"
   ]
  },
  {
   "cell_type": "markdown",
   "id": "87201c0f-48bb-4c65-bdac-82f22296271f",
   "metadata": {},
   "source": [
    "Therefore, if we perform this operation at a series of different timesteps (the *x*-axis in the diffusion relation), we can populate the *y*-axis for our dataset. \n",
    "This is shown for the LLZO material below (note that throughout this description we focus on data in the diffusive regime alone). "
   ]
  },
  {
   "cell_type": "code",
   "execution_count": null,
   "id": "aadf0ee3-7310-4922-8bbf-da88aada579b",
   "metadata": {
    "tags": []
   },
   "outputs": [],
   "source": [
    "dt, msd = np.loadtxt('_static/msd.txt')\n",
    "\n",
    "plt.plot(dt, msd, c='#0173B2')\n",
    "plt.ylabel('MSD/Å$^2$')\n",
    "plt.xlabel('$\\Delta t$/ps')\n",
    "plt.xlim(0, None)\n",
    "plt.ylim(0, None)\n",
    "plt.show()"
   ]
  },
  {
   "cell_type": "markdown",
   "id": "b3bbfa07-9221-4a64-b235-33e3c60fde50",
   "metadata": {},
   "source": [
    "The first thing we notice is that this data has no uncertainty associated with it. \n",
    "Given that this simulation is of a finite size, this is impossible. \n",
    "Consider, if we run another independent simulation of the same system, we will probably get different MSD plots. \n",
    "\n",
    "## Finding the uncertainty in the mean-squared displacement\n",
    "\n",
    "The variance for all observed sqaured displacements can be found. \n",
    "However, this will underestimate the variance as it makes use of a large number of overlapping trajectories. \n",
    "Therefore, the variance should be rescaled by the number of non-overlapping trajectories. \n",
    "For 5 ps of simulation, there is only two non-overlapping trajectories per atom, so the number of samples in the resampling should be $2 \\times N_{\\mathrm{atoms}}$. "
   ]
  },
  {
   "cell_type": "code",
   "execution_count": null,
   "id": "40501211-11e5-48fd-baac-978911b3536a",
   "metadata": {
    "tags": []
   },
   "outputs": [],
   "source": [
    "var = np.var(sq_displacements, ddof=1) / 384\n",
    "print(f'Variance = {var:.3f} Å^2')"
   ]
  },
  {
   "cell_type": "markdown",
   "id": "4458dffd-5d69-4e4f-927d-51a6bf6444e0",
   "metadata": {},
   "source": [
    "From this, we can find the mean and standard deviation. "
   ]
  },
  {
   "cell_type": "code",
   "execution_count": null,
   "id": "1b95f08a-564d-4d79-8a0f-013f714a0a1a",
   "metadata": {
    "tags": []
   },
   "outputs": [],
   "source": [
    "print(f'MSD = {np.mean(sq_displacements):.3f}+\\-{np.sqrt(var):.3f} Å^2')"
   ]
  },
  {
   "cell_type": "markdown",
   "id": "0792f6b3-e6e2-420a-8488-8da6c880d3e0",
   "metadata": {},
   "source": [
    "The value of the MSD is very similar (within sampling error) to that determined as the numerical mean of the squared displacements. \n",
    "However, now we have information about the distribution of the mean-squared displacement and we can visualise this for a real material below. "
   ]
  },
  {
   "cell_type": "code",
   "execution_count": null,
   "id": "ceaed7eb-f653-47f6-955b-b38a7098003e",
   "metadata": {
    "tags": []
   },
   "outputs": [],
   "source": [
    "dt, msd, msd_std = np.loadtxt('_static/msd_std.txt')\n",
    "\n",
    "plt.errorbar(dt, msd, msd_std, c='#0173B2')\n",
    "plt.ylabel('MSD/Å$^2$')\n",
    "plt.xlabel('$\\Delta t$/ps')\n",
    "plt.xlim(0, None)\n",
    "plt.ylim(0, None)\n",
    "plt.show()"
   ]
  },
  {
   "cell_type": "markdown",
   "id": "3868e905-04a2-45bb-908f-e63a791341b4",
   "metadata": {},
   "source": [
    "## Understanding the correlation between measurements\n",
    "\n",
    "However, the knowledge of the distribution of mean-squared displacements does not completely describe the variance in the data set.  \n",
    "\n",
    "\n",
    "<div class=\"alert alert-info\">\n",
    "    \n",
    "Thought experiment\n",
    "    \n",
    "Consider, a particle travelling on a one-dimensional random walk with a step size of 1 Å.\n",
    "If, after 10 steps, the particle has been displaced by 5 Å then after 11 steps the particle could only be displaced by either 4 Å or 6 Å and after 12 steps the particle could only be displaced by 3, 4, 5, 6, 7 Å. \n",
    "</div>\n",
    "\n",
    "This fact results in a substantial [correlation](https://en.wikipedia.org/wiki/Correlation) between the distributions of mean-squared displacement at different timesteps. \n",
    "To quantify this correlation, we have derived an approach to <a href='./_static/derivation.pdf'>estimate the full covariance matrix</a> (a description of the correlation between the timesteps). \n",
    "The result of this derivation is that the covariance between two timesteps, $\\mathrm{cov}_i\\Big(\\big\\langle \\mathbf{r}^2(\\Delta t_n) \\big\\rangle, \\big\\langle \\mathbf{r}^2(\\Delta t_{n+m}) \\big\\rangle\\Big)$, is the product of the variance at the first timestep, $\\Delta t_n$ and the ratio of maximum independent trajectories at each timestep,\n",
    "\n",
    "$$\n",
    "\\mathrm{cov}\\Big(\\big\\langle \\mathbf{r}^2(\\Delta t_n) \\big\\rangle, \\big\\langle \\mathbf{r}^2(\\Delta t_{n+m}) \\big\\rangle\\Big) = \\sigma^2\\big(\\langle \\mathbf{r}^2(\\Delta t_n) \\rangle\\big) \\frac{N_i(\\Delta t_{n})}{N_i(\\Delta t_{n+m})},\n",
    "$$\n",
    "\n",
    "This approach is extremely computationally efficient, as there is no additional sampling required to determine this estimate of the full covariance matrix. \n",
    "However, the noise sampled variances may lead to poorly defined covariance matrices, therefore the variances are smoothed to follow the function defined in Equation 14 of the derivation. \n",
    "This leads to the covariance matrix shown for our LLZO simulation in the figure below. "
   ]
  },
  {
   "cell_type": "code",
   "execution_count": null,
   "id": "3cc83c3f-c6c7-442c-b190-4daa0d01c995",
   "metadata": {
    "tags": []
   },
   "outputs": [],
   "source": [
    "data = np.load('_static/cov.npz')\n",
    "cov = data['cov']\n",
    "\n",
    "plt.subplots(figsize=(6, 4.9))\n",
    "plt.contourf(*np.meshgrid(dt, dt), cov, levels=20)\n",
    "plt.xlabel('$\\Delta t_n$/ps')\n",
    "plt.ylabel('$\\Delta t_{n+m}$/ps')\n",
    "plt.axis('equal')\n",
    "plt.colorbar(label=r'$\\mathrm{cov}' + \n",
    "             r'(\\langle \\mathbf{s}^2(\\Delta t_n) \\rangle, ' + \n",
    "             r'\\langle \\mathbf{s}^2(\\Delta t_{n+m}) \\rangle)$')\n",
    "plt.show()"
   ]
  },
  {
   "cell_type": "markdown",
   "id": "af1bf34d-d199-4dc3-959b-67dc58905c2b",
   "metadata": {},
   "source": [
    "## Modelling a multivariate normal distribution\n",
    "\n",
    "The determination of the variance in the mean-squared displacement and estimation of the full covariance matrix allows the mean-squared displacement to be described as a covariant [multivariate normal distribution](https://en.wikipedia.org/wiki/Multivariate_normal_distribution#Definitions), and therefore we can define it with a `scipy.stats.multivariate_normal` object. "
   ]
  },
  {
   "cell_type": "code",
   "execution_count": 30,
   "id": "9758f623-06e9-4750-ba82-02d5fdab059e",
   "metadata": {
    "tags": []
   },
   "outputs": [],
   "source": [
    "gp = multivariate_normal(mean=msd, cov=cov, allow_singular=True)"
   ]
  },
  {
   "cell_type": "markdown",
   "id": "e55e558b-1922-4b73-b212-edec14909c21",
   "metadata": {},
   "source": [
    "This object, in theory, allows us to simulate potential trajectories that could be observed in our simulation were repeated. \n",
    "In the plot below, we compare such a simulation from the multivariate normal distribution produced from the full covariance matrix with that produced when there only the diagonal terms are defined (i.e. only the variances for each mean-squared displacement). "
   ]
  },
  {
   "cell_type": "code",
   "execution_count": null,
   "id": "232e8811-2820-4b0e-b403-4857b1c66584",
   "metadata": {
    "tags": []
   },
   "outputs": [],
   "source": [
    "gp_wls = multivariate_normal(\n",
    "    mean=msd, cov=np.diag(cov.diagonal()), allow_singular=True)\n",
    "\n",
    "plt.plot(dt, gp.rvs(1).T, label='GLS', c='#0173B2')\n",
    "plt.plot(dt, gp_wls.rvs(1).T, label='WLS', c='#029E73')\n",
    "plt.legend()\n",
    "plt.ylabel('MSD/Å$^2$')\n",
    "plt.xlabel('$\\Delta t$/ps')\n",
    "plt.xlim(0, None)\n",
    "plt.ylim(0, None)\n",
    "plt.show()"
   ]
  },
  {
   "cell_type": "markdown",
   "id": "38682818-57c4-4955-96c2-fda52769c6f4",
   "metadata": {},
   "source": [
    "The erratic changes in the mean-squared displacement that is observed in the plot with only the variances defined are unphysical when we consider the correlation thought experiment above. \n",
    "\n",
    "## Likelihood sampling a multivariate normal distribution\n",
    "\n",
    "As mentioned above, this process aims to determine the diffusion coefficient and ordinate offset, and their model variance, by fitting the Einstein relation. \n",
    "In `kinisi`, we use Markov chain Monte Carlo (MCMC) posterior sampling to perform this, using the [emcee package](https://emcee.readthedocs.io).\n",
    "To perform this, we define a `log_posterior` function, that imposes a Bayesian prior probability that the diffusion coefficient must be positive. "
   ]
  },
  {
   "cell_type": "code",
   "execution_count": 32,
   "id": "de35f746-2b61-4dd9-966a-65676978238d",
   "metadata": {
    "tags": []
   },
   "outputs": [],
   "source": [
    "def log_prior(theta):\n",
    "    \"\"\"\n",
    "    Get the log-prior uniform distribution\n",
    "    :param theta: Value of the gradient and intercept of the straight line.\n",
    "    :return: Log-prior value.\n",
    "    \"\"\"\n",
    "    if theta[0] < 0:\n",
    "        return -np.inf\n",
    "    return 0\n",
    "\n",
    "\n",
    "def log_likelihood(theta):\n",
    "    \"\"\"\n",
    "    Get the log-likelihood for multivariate normal distribution.\n",
    "    :param theta: Value of the gradient and intercept of the straight line.\n",
    "    :return: Log-likelihood value.\n",
    "    \"\"\"\n",
    "    model = dt * theta[0] + theta[1]\n",
    "    logl = gp.logpdf(model)\n",
    "    return logl\n",
    "\n",
    "\n",
    "def log_posterior(theta: np.ndarray) -> float:\n",
    "    \"\"\"\n",
    "    Summate the log-likelihood and log prior to produce the log-posterior value\n",
    "    :param theta: Value of the gradient and intercept of the straight line.\n",
    "    :return: Log-posterior value.\n",
    "    \"\"\"\n",
    "    logp = log_likelihood(theta) + log_prior(theta)\n",
    "    return logp"
   ]
  },
  {
   "cell_type": "markdown",
   "id": "32618b8b-693b-40a8-a7bf-d766f3f1a014",
   "metadata": {},
   "source": [
    "Then we can use a minimisation routine to determine maximum *a posteriori* values for the gradient and intercept. "
   ]
  },
  {
   "cell_type": "code",
   "execution_count": 33,
   "id": "23c97983-1068-4d72-9e1d-cd7d36084e06",
   "metadata": {
    "tags": []
   },
   "outputs": [],
   "source": [
    "def nll(*args) -> float:\n",
    "    \"\"\"\n",
    "    General purpose negative log-posterior.\n",
    "\n",
    "    :return: Negative log-posterior\n",
    "    \"\"\"\n",
    "    return -log_posterior(*args)\n",
    "\n",
    "max_post = minimize(nll, [1, 0]).x"
   ]
  },
  {
   "cell_type": "code",
   "execution_count": null,
   "id": "c2fc56d5-cfb9-4ff6-a3c5-7b37bf1a7770",
   "metadata": {
    "tags": []
   },
   "outputs": [],
   "source": [
    "print(f'MAP: m = {max_post[0]:.3f}, c = {max_post[1]:.3f}')"
   ]
  },
  {
   "cell_type": "markdown",
   "id": "9ac080b7-ffc6-4488-9289-cee13fe32c16",
   "metadata": {},
   "source": [
    "After determining the maximum *a posteriori*, we can use `emcee` for sampling with 32 walkers for 1000 samples (with a 500 sample burn-in, which we discard in producing the `flatchain`). "
   ]
  },
  {
   "cell_type": "code",
   "execution_count": 35,
   "id": "a904bd03-662e-4db3-bd79-e6cf34f96221",
   "metadata": {
    "tags": []
   },
   "outputs": [],
   "source": [
    "pos = max_post + max_post * 1e-3 * np.random.randn(32, max_post.size)\n",
    "\n",
    "sampler = EnsembleSampler(*pos.shape, log_posterior)\n",
    "sampler.run_mcmc(pos, 1000 + 500, progress=False)\n",
    "flatchain = sampler.get_chain(flat=True, discard=500)"
   ]
  },
  {
   "cell_type": "markdown",
   "id": "8b7c9424-5f6f-4e05-afe2-b232dd476126",
   "metadata": {},
   "source": [
    "The diffusion coefficient (in units of cm<sup>2</sup>s<sup>-1</sup>) is found by dividing the gradient by 60000). "
   ]
  },
  {
   "cell_type": "code",
   "execution_count": 36,
   "id": "3150d420-8fd1-441b-bb7b-8fa7187ede2b",
   "metadata": {
    "tags": []
   },
   "outputs": [],
   "source": [
    "flatchain[:, 0] /= 60000"
   ]
  },
  {
   "cell_type": "markdown",
   "id": "55a46948-730d-483f-a60a-271d90697d2c",
   "metadata": {},
   "source": [
    "We can then visualise these samples as a `corner` plot."
   ]
  },
  {
   "cell_type": "code",
   "execution_count": null,
   "id": "af67ae0d-0132-4ce4-9cac-f9442f774157",
   "metadata": {
    "tags": []
   },
   "outputs": [],
   "source": [
    "corner(flatchain, labels=['$D$/cm$^2$s$^{-1}$', '$D_{\\mathrm{offset}}$/Å$^2$'])\n",
    "plt.show()"
   ]
  },
  {
   "cell_type": "markdown",
   "id": "b40f0785-b628-47cf-88cd-74776c314019",
   "metadata": {},
   "source": [
    "It is also possible to visualise this as a traditional mean-squared displacement plot with credible intervals of the Einstein relation values. "
   ]
  },
  {
   "cell_type": "code",
   "execution_count": null,
   "id": "8b3e5df7-e33a-4348-95ba-b63cbcde5706",
   "metadata": {
    "tags": []
   },
   "outputs": [],
   "source": [
    "credible_intervals = [[16, 84], [2.5, 97.5]]\n",
    "alpha = [0.8, 0.4]\n",
    "\n",
    "plt.plot(dt, msd, color='#000000', zorder=10)\n",
    "distribution = flatchain[\n",
    "    :, 0] * 60000 * dt[:, np.newaxis] + flatchain[:, 1]\n",
    "for i, ci in enumerate(credible_intervals):\n",
    "    plt.fill_between(dt,\n",
    "                     *np.percentile(distribution, ci, axis=1),\n",
    "                     alpha=alpha[i],\n",
    "                     color='#0173B2',\n",
    "                     lw=0)\n",
    "plt.ylabel('MSD/Å$^2$')\n",
    "plt.xlabel('$\\Delta t$/ps')\n",
    "plt.xlim(0, None)\n",
    "plt.ylim(0, None)\n",
    "plt.show()"
   ]
  },
  {
   "cell_type": "code",
   "execution_count": null,
   "id": "d77d1df8",
   "metadata": {},
   "outputs": [],
   "source": []
  }
 ],
 "metadata": {
  "kernelspec": {
   "display_name": "kinisi",
   "language": "python",
   "name": "python3"
  },
  "language_info": {
   "codemirror_mode": {
    "name": "ipython",
    "version": 3
   },
   "file_extension": ".py",
   "mimetype": "text/x-python",
   "name": "python",
   "nbconvert_exporter": "python",
   "pygments_lexer": "ipython3",
   "version": "3.12.4"
  }
 },
 "nbformat": 4,
 "nbformat_minor": 5
}
